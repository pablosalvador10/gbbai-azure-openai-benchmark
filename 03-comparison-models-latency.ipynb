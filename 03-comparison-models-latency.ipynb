{
 "cells": [
  {
   "cell_type": "code",
   "execution_count": 7,
   "metadata": {},
   "outputs": [
    {
     "name": "stdout",
     "output_type": "stream",
     "text": [
      "Directory changed to C:\\Users\\pablosal\\Desktop\\gbbai-azure-openai-benchmark\n"
     ]
    }
   ],
   "source": [
    "import os\n",
    "\n",
    "# Define the target directory (change yours)\n",
    "target_directory = r\"C:\\Users\\pablosal\\Desktop\\gbbai-azure-openai-benchmark\"\n",
    "\n",
    "# Check if the directory exists\n",
    "if os.path.exists(target_directory):\n",
    "    # Change the current working directory\n",
    "    os.chdir(target_directory)\n",
    "    print(f\"Directory changed to {os.getcwd()}\")\n",
    "else:\n",
    "    print(f\"Directory {target_directory} does not exist.\")"
   ]
  },
  {
   "cell_type": "code",
   "execution_count": 8,
   "metadata": {},
   "outputs": [],
   "source": [
    "from benchmark.aoaihelpers.comparison import AzureOpenAIStreamingBenchmark,AzureOpenAINonStreamingBenchmark\n",
    "import asyncio\n",
    "\n",
    "from dotenv import load_dotenv\n",
    "\n",
    "# Load environment variables from .env file\n",
    "load_dotenv()\n",
    "\n",
    "# Now you can access the environment variables using os.getenv\n",
    "api_key = os.getenv(\"OPENAI_API_KEY_EAST2\")\n",
    "azure_endpoint = os.getenv(\"AZURE_OPENAI_ENDPOINT_EAST2\")\n",
    "region = \"swedencentral\""
   ]
  },
  {
   "cell_type": "markdown",
   "metadata": {},
   "source": [
    "## Latency with Streaming Option\n",
    "\n",
    "Let's  the streaming option provided by the Azure OpenAI Chat API. Streaming allows us to process data in chunks as it becomes available, which can be beneficial in certain situations.\n",
    "\n",
    "### Pros of Streaming:\n",
    "\n",
    "- **Memory Efficiency**: Streaming processes large files or data in smaller chunks, reducing memory requirement.\n",
    "- **Real-Time Processing**: It enables real-time processing and progress monitoring, which can be useful for live data feeds or providing users with real-time updates.\n",
    "\n",
    "### Cons of Streaming:\n",
    "\n",
    "- **Increased Code Complexity**: Streaming can increase code complexity as you need to handle data in chunks and manage the state between chunks.\n",
    "- **Potential Slowdown**: It might slow down processing as the code waits for data to become available.\n",
    "- **Inconsistency in Latency**: Inconsistency in latency can be a challenge, especially if the first response takes a long time due to a complex prompt.\n",
    "\n",
    "### Test with Sample\n",
    "\n",
    "In the Azure OpenAI Chat API, the `stream` parameter in the `client.chat.completions.create()` method determines whether to stream back partial progress. If set to `True`, tokens are sent as data-only server-sent events as they become available, with the stream terminated by a `data: [DONE]` message.\n",
    "\n",
    "Here is a breakdown of the streaming process:\n",
    "\n",
    "1. A chat completion call is made with `stream=True`.\n",
    "2. The async iterable response starts receiving chunks of data from the server.\n",
    "3. For each chunk received, the code enters the `async for` loop.\n",
    "4. The chunk of data is converted to JSON and checked if it contains any choices (responses from the model).\n",
    "5. If there are responses, the content of the response is printed to the console.\n",
    "6. This process repeats until all chunks of data have been received and processed.\n",
    "\n",
    "This way, the responses from the model are printed as soon as they are received, instead of waiting for the entire output to be ready. This is the concept of streaming in the context of this code."
   ]
  },
  {
   "cell_type": "code",
   "execution_count": 3,
   "metadata": {},
   "outputs": [
    {
     "ename": "TypeError",
     "evalue": "__init__() got an unexpected keyword argument 'verbose'",
     "output_type": "error",
     "traceback": [
      "\u001b[1;31m---------------------------------------------------------------------------\u001b[0m",
      "\u001b[1;31mTypeError\u001b[0m                                 Traceback (most recent call last)",
      "Cell \u001b[1;32mIn[3], line 8\u001b[0m\n\u001b[0;32m      5\u001b[0m max_tokens \u001b[38;5;241m=\u001b[39m \u001b[38;5;241m800\u001b[39m\n\u001b[0;32m      7\u001b[0m \u001b[38;5;66;03m# Create an AzureOpenAIClient and run the tests\u001b[39;00m\n\u001b[1;32m----> 8\u001b[0m client_streaming \u001b[38;5;241m=\u001b[39m \u001b[43mAzureOpenAIStreamingBenchmark\u001b[49m\u001b[43m(\u001b[49m\u001b[43mapi_key\u001b[49m\u001b[43m,\u001b[49m\u001b[43m \u001b[49m\u001b[43mazure_endpoint\u001b[49m\u001b[43m,\u001b[49m\u001b[43m \u001b[49m\u001b[43mverbose\u001b[49m\u001b[38;5;241;43m=\u001b[39;49m\u001b[38;5;28;43;01mTrue\u001b[39;49;00m\u001b[43m)\u001b[49m\n\u001b[0;32m      9\u001b[0m \u001b[38;5;28;01mawait\u001b[39;00m client_streaming\u001b[38;5;241m.\u001b[39mrun_tests(deployment_names, max_tokens)\n",
      "\u001b[1;31mTypeError\u001b[0m: __init__() got an unexpected keyword argument 'verbose'"
     ]
    }
   ],
   "source": [
    "# Define the deployment names\n",
    "deployment_names = ['turbo-gpt4', 'gpt4-1106']\n",
    "\n",
    "# Define max_tokens\n",
    "max_tokens = 800\n",
    "\n",
    "# Create an AzureOpenAIClient and run the tests\n",
    "client_streaming = AzureOpenAIStreamingBenchmark(api_key, azure_endpoint, verbose=True)\n",
    "await client_streaming.run_tests(deployment_names, max_tokens)"
   ]
  },
  {
   "cell_type": "markdown",
   "metadata": {},
   "source": [
    "## Latency with Non-Streaming Option\n",
    "\n",
    "In this section, we will explore the non-streaming option provided by the Azure OpenAI Chat API. In a non-streaming option, the model generates its entire output in one go and then sends it back to the user. This is in contrast to the streaming option, where the model sends back portions of its output as soon as they are generated, even while the rest of the output is still being generated. The non-streaming option is the default in the Azure OpenAI Python SDK.\n",
    "\n",
    "The code below tests the latency of various models of Azure OpenAI under different conditions. Here are some technical details:\n",
    "\n",
    "- The script uses environment variables to securely access the API key and endpoint needed for Azure OpenAI.\n",
    "- It initializes the AzureOpenAI client with the necessary API key, API version, and endpoint.\n",
    "- It sets up a list of model deployment names and maximum token sizes to be tested. The models represent different versions of the AI and token sizes define the maximum length of the generated output.\n",
    "- Two time intervals are defined: one for tests with the same model but different token sizes, and another for tests with different models. This is done to prevent rapid, successive calls which could lead to skewed results due to potential caching or rate limiting.\n",
    "- It defines an asynchronous function `make_call()` to send requests to the OpenAI service and measure the response time. This function utilizes the `chat.completions.create()` method of the OpenAI client to generate a message from the model.\n",
    "- The function prints the time of sending the request, the model's response, and the time taken for the model to generate the response.\n",
    "- Finally, it iterates over each model and token size, making calls to the OpenAI service and measuring the response time. The script pauses between tests as per the defined intervals.\n",
    "\n",
    "This non-streaming test allows for a comprehensive latency analysis of different AI models under varying output lengths, aiding in the selection of the most suitable model for specific use cases."
   ]
  },
  {
   "cell_type": "code",
   "execution_count": 9,
   "metadata": {},
   "outputs": [
    {
     "name": "stdout",
     "output_type": "stream",
     "text": [
      "Call sent at (Local time): 2024-05-02 09:13:47.100274, (GMT): 2024-05-02 14:13:47.100274+00:00, Model: turbo-gpt4, Max Tokens: 100\n"
     ]
    },
    {
     "name": "stderr",
     "output_type": "stream",
     "text": [
      "2024-05-02 09:13:49,847 - micro - MainProcess - INFO     Seattle, Washington has a rich and diverse history that dates back thousands of years. Here's a brief overview of the key events and developments:\n",
      "\n",
      "1. **Native American Inhabitance**:\n",
      "   - Long before European settlers arrived, the Seattle area was inhabited by Native American tribes, notably the Duwamish and Suquamish tribes. The area was rich in resources, and the tribes lived by fishing, hunting, and gathering.\n",
      "\n",
      "2. **European Exploration**:\n",
      "   - The first European to (comparison.py:make_call:143)\n",
      "2024-05-02 09:13:49,852 - micro - MainProcess - INFO     Time taken for chat: 3 seconds or 2747 milliseconds. (comparison.py:make_call:144)\n"
     ]
    },
    {
     "name": "stdout",
     "output_type": "stream",
     "text": [
      "Call sent at (Local time): 2024-05-02 09:13:54.858023, (GMT): 2024-05-02 14:13:54.858023+00:00, Model: turbo-gpt4, Max Tokens: 100\n"
     ]
    },
    {
     "name": "stderr",
     "output_type": "stream",
     "text": [
      "2024-05-02 09:13:57,627 - micro - MainProcess - INFO     Seattle, located between Puget Sound and Lake Washington in the Pacific Northwest region of the United States, boasts a rich and varied history. It is the largest city in Washington State and has played a significant role in the development of the region and the country.\n",
      "\n",
      "**Native American Roots**\n",
      "Before European settlers, the area was inhabited by Native American tribes, primarily the Duwamish and Suquamish peoples. The lush land and abundant water sources offered rich fishing and hunting grounds.\n",
      "\n",
      "**European Settlement**\n",
      "The (comparison.py:make_call:143)\n",
      "2024-05-02 09:13:57,630 - micro - MainProcess - INFO     Time taken for chat: 3 seconds or 2769 milliseconds. (comparison.py:make_call:144)\n"
     ]
    },
    {
     "name": "stdout",
     "output_type": "stream",
     "text": [
      "Call sent at (Local time): 2024-05-02 09:14:02.634755, (GMT): 2024-05-02 14:14:02.634755+00:00, Model: turbo-gpt4, Max Tokens: 100\n"
     ]
    },
    {
     "name": "stderr",
     "output_type": "stream",
     "text": [
      "2024-05-02 09:14:05,569 - micro - MainProcess - INFO     Seattle, located in the state of Washington in the United States, has a rich and diverse history that dates back thousands of years. Here is an overview of the key historical events and phases in the development of Seattle:\n",
      "\n",
      "### Native Inhabitants\n",
      "The area now known as Seattle has been inhabited for at least 4,000 years. The Duwamish and other Native tribes lived in the region, utilizing its abundant natural resources. They had complex social structures and established extensive trade networks.\n",
      "\n",
      "### European (comparison.py:make_call:143)\n",
      "2024-05-02 09:14:05,572 - micro - MainProcess - INFO     Time taken for chat: 3 seconds or 2935 milliseconds. (comparison.py:make_call:144)\n"
     ]
    },
    {
     "name": "stdout",
     "output_type": "stream",
     "text": [
      "Call sent at (Local time): 2024-05-02 09:14:10.582906, (GMT): 2024-05-02 14:14:10.582906+00:00, Model: turbo-gpt4, Max Tokens: 100\n"
     ]
    },
    {
     "name": "stderr",
     "output_type": "stream",
     "text": [
      "2024-05-02 09:14:13,488 - micro - MainProcess - INFO     Seattle, located in the state of Washington in the United States, has a rich and varied history that reflects its growth from a Native American dwelling to one of the most vibrant and technologically advanced cities in America.\n",
      "\n",
      "**Native American Beginnings:**\n",
      "Before European settlers arrived, the area was inhabited by Native American tribes such as the Duwamish, Suquamish, Snoqualmie, Snohomish, and Muckleshoot. These tribes had lived in the region for thousands of years and were (comparison.py:make_call:143)\n",
      "2024-05-02 09:14:13,492 - micro - MainProcess - INFO     Time taken for chat: 3 seconds or 2906 milliseconds. (comparison.py:make_call:144)\n"
     ]
    },
    {
     "name": "stdout",
     "output_type": "stream",
     "text": [
      "Call sent at (Local time): 2024-05-02 09:14:18.506341, (GMT): 2024-05-02 14:14:18.506341+00:00, Model: turbo-gpt4, Max Tokens: 100\n"
     ]
    },
    {
     "name": "stderr",
     "output_type": "stream",
     "text": [
      "2024-05-02 09:14:21,992 - micro - MainProcess - INFO     Seattle, located in the Pacific Northwest region of the United States, has a rich and diverse history that spans thousands of years. Here’s an overview of the key events and developments in the history of Seattle:\n",
      "\n",
      "### Pre-19th Century\n",
      "- **Native Settlement**: The area now known as Seattle has been inhabited for at least 4,000 years. The Duwamish and Suquamish Tribes were among the first known inhabitants, living off the land through fishing, hunting, and gathering (comparison.py:make_call:143)\n",
      "2024-05-02 09:14:21,995 - micro - MainProcess - INFO     Time taken for chat: 3 seconds or 3486 milliseconds. (comparison.py:make_call:144)\n"
     ]
    },
    {
     "name": "stdout",
     "output_type": "stream",
     "text": [
      "Call sent at (Local time): 2024-05-02 09:14:27.005034, (GMT): 2024-05-02 14:14:27.005034+00:00, Model: turbo-gpt4, Max Tokens: 200\n"
     ]
    },
    {
     "name": "stderr",
     "output_type": "stream",
     "text": [
      "2024-05-02 09:14:32,071 - micro - MainProcess - INFO     Seattle, located in the state of Washington in the United States, has a rich and varied history. Here is an overview of the key events and elements that have shaped the city:\n",
      "\n",
      "### Indigenous History\n",
      "- **Pre-European Settlement:** The area now known as Seattle has been inhabited for at least 4,000 years. It was originally occupied by Native American tribes such as the Duwamish and Suquamish. The indigenous people called the area \"Dkhw’Duw’Absh,\" meaning \"People of the Inside.\"\n",
      "\n",
      "### European Exploration and Settlement\n",
      "- **1787:** The first European to visit the Seattle area was George Vancouver, who explored Puget Sound.\n",
      "- **Mid-19th Century:** The first permanent European settlers, Arthur A. Denny and his group of travelers, known as the Denny Party, arrived at Alki Point in November 1851. They later relocated to the eastern shore of Elliott Bay, founding the town of Seattle in 1852 (comparison.py:make_call:143)\n",
      "2024-05-02 09:14:32,074 - micro - MainProcess - INFO     Time taken for chat: 5 seconds or 5067 milliseconds. (comparison.py:make_call:144)\n"
     ]
    },
    {
     "name": "stdout",
     "output_type": "stream",
     "text": [
      "Call sent at (Local time): 2024-05-02 09:14:37.087771, (GMT): 2024-05-02 14:14:37.087771+00:00, Model: turbo-gpt4, Max Tokens: 200\n"
     ]
    },
    {
     "name": "stderr",
     "output_type": "stream",
     "text": [
      "2024-05-02 09:14:42,138 - micro - MainProcess - INFO     Seattle, located in the Pacific Northwest region of the United States, has a rich and varied history that reflects its growth from a small Native American dwelling to a major metropolitan city.\n",
      "\n",
      "### Pre-European Settlement\n",
      "Before European settlers arrived, the area was inhabited by Native American tribes, primarily the Duwamish and Suquamish. These peoples had established villages and a way of life based on fishing, hunting, and gathering, and they had complex social and cultural structures.\n",
      "\n",
      "### European Exploration\n",
      "The first European to visit the Seattle area was George Vancouver, in May 1792. However, the area did not begin to be extensively explored and mapped until over half a century later.\n",
      "\n",
      "### Settlement and Establishment\n",
      "The first permanent European settlers arrived in the Seattle area in 1851, led by Arthur A. Denny and his group of travelers, known as the Denny Party. They settled at Alki Point in November 1851 but moved to the eastern shore of Elliott Bay the following spring, which (comparison.py:make_call:143)\n",
      "2024-05-02 09:14:42,140 - micro - MainProcess - INFO     Time taken for chat: 5 seconds or 5051 milliseconds. (comparison.py:make_call:144)\n"
     ]
    },
    {
     "name": "stdout",
     "output_type": "stream",
     "text": [
      "Call sent at (Local time): 2024-05-02 09:14:47.155900, (GMT): 2024-05-02 14:14:47.155900+00:00, Model: turbo-gpt4, Max Tokens: 200\n"
     ]
    },
    {
     "name": "stderr",
     "output_type": "stream",
     "text": [
      "2024-05-02 09:14:52,178 - micro - MainProcess - INFO     Seattle, a city in the state of Washington, has a rich and diverse history that dates back thousands of years. Here's a brief overview of the city's history:\n",
      "\n",
      "**Native American Beginnings:**\n",
      "Before European settlers arrived, the Seattle area was inhabited by Native American tribes, primarily the Duwamish and Suquamish peoples. These communities had complex social structures and lived off the abundant natural resources, engaging in fishing, hunting, and gathering.\n",
      "\n",
      "**European Exploration:**\n",
      "The first European to visit the Seattle area was George Vancouver, who arrived in 1792. However, the area did not see significant European activity until the 19th century.\n",
      "\n",
      "**Settlement and Naming:**\n",
      "Seattle was officially settled on November 13, 1851, by Arthur A. Denny and his group of travelers from Illinois, known as the Denny Party. The city was initially called \"New York Alki\" (\"Alki\" meaning \"by and by\" in Chinook Jargon) (comparison.py:make_call:143)\n",
      "2024-05-02 09:14:52,181 - micro - MainProcess - INFO     Time taken for chat: 5 seconds or 5023 milliseconds. (comparison.py:make_call:144)\n"
     ]
    },
    {
     "name": "stdout",
     "output_type": "stream",
     "text": [
      "Call sent at (Local time): 2024-05-02 09:14:57.188046, (GMT): 2024-05-02 14:14:57.188046+00:00, Model: turbo-gpt4, Max Tokens: 200\n"
     ]
    },
    {
     "name": "stderr",
     "output_type": "stream",
     "text": [
      "2024-05-02 09:15:02,228 - micro - MainProcess - INFO     Seattle, the largest city in both the State of Washington and the Pacific Northwest region of North America, has a rich and varied history. Here are some key points:\n",
      "\n",
      "**Indigenous History:**\n",
      "Before European settlers arrived, the Seattle area was inhabited by Native American tribes for at least 4,000 years. The Duwamish Tribe, among others, were prominent in the area. The city itself is named after Chief Seattle, a leader of the local Duwamish and Suquamish tribes.\n",
      "\n",
      "**European Settlement:**\n",
      "The arrival of European settlers in the Seattle area began in the 1850s. Arthur A. Denny and his group of travelers, subsequently known as the Denny Party, are considered the first European settlers when they arrived at Alki Point on November 13, 1851.\n",
      "\n",
      "**Economic Development:**\n",
      "Seattle's early economy was based on the timber industry. The city served as a gateway for travelers en route to Alaska during the Klondike Gold (comparison.py:make_call:143)\n",
      "2024-05-02 09:15:02,231 - micro - MainProcess - INFO     Time taken for chat: 5 seconds or 5040 milliseconds. (comparison.py:make_call:144)\n"
     ]
    },
    {
     "name": "stdout",
     "output_type": "stream",
     "text": [
      "Call sent at (Local time): 2024-05-02 09:15:07.245181, (GMT): 2024-05-02 14:15:07.245181+00:00, Model: turbo-gpt4, Max Tokens: 200\n"
     ]
    },
    {
     "name": "stderr",
     "output_type": "stream",
     "text": [
      "2024-05-02 09:15:12,856 - micro - MainProcess - INFO     Seattle, located in the Pacific Northwest region of the United States, has a rich and varied history. Here are some key points in the development and growth of the city:\n",
      "\n",
      "1. **Native American Inhabitants**: Before European settlers, the area was inhabited by Native American tribes such as the Duwamish and Suquamish. These tribes had established villages and trade networks in the region.\n",
      "\n",
      "2. **European Exploration**: The area that would become Seattle was first visited by European explorers in the late 18th century. British explorer George Vancouver mapped the area in 1792.\n",
      "\n",
      "3. **Founding and Settlement**: The city was officially founded on November 13, 1851, by Arthur A. Denny and his group of travelers from Illinois, later known as the Denny Party. Initially named \"New York-Alki\" (\"Alki\" meaning \"by and by\" in the Chinook language), it was soon renamed Seattle after Chief Si’ahl (or Sealth (comparison.py:make_call:143)\n",
      "2024-05-02 09:15:12,858 - micro - MainProcess - INFO     Time taken for chat: 6 seconds or 5611 milliseconds. (comparison.py:make_call:144)\n"
     ]
    },
    {
     "name": "stdout",
     "output_type": "stream",
     "text": [
      "Call sent at (Local time): 2024-05-02 09:15:17.865754, (GMT): 2024-05-02 14:15:17.865754+00:00, Model: turbo-gpt4, Max Tokens: 400\n"
     ]
    },
    {
     "name": "stderr",
     "output_type": "stream",
     "text": [
      "2024-05-02 09:15:27,546 - micro - MainProcess - INFO     Seattle, located in the Pacific Northwest region of the United States, has a rich and varied history that dates back thousands of years. Here are key highlights from Seattle's history:\n",
      "\n",
      "### Pre-European Settlement\n",
      "- **Native American Inhabitants**: Long before European settlers arrived, the area was inhabited by Native American tribes such as the Duwamish, Suquamish, Snoqualmie, and Muckleshoot. These tribes had complex social structures and thrived on the abundant natural resources.\n",
      "\n",
      "### European Exploration and Settlement\n",
      "- **1792**: British explorer Captain George Vancouver explored the Puget Sound, marking the first documented European landing in the Seattle area.\n",
      "- **1851**: The first permanent European settlers, led by Arthur A. Denny and his group of travelers, known as the Denny Party, arrived at Alki Point. The settlement was initially named \"New York-Alki\" but was later moved to the eastern shore of Elliott Bay and named \"Seattle\" after Chief Si'ahl (or Sealth) of the local Duwamish and Suquamish tribes.\n",
      "\n",
      "### Development and Growth\n",
      "- **Mid-19th Century**: Seattle became a commercial hub due to its lumber industry and strategic location. The city officially incorporated on December 2, 1869.\n",
      "- **1889**: A major fire, known as the Great Seattle Fire, destroyed the central business district. The city was quickly rebuilt, using more durable materials like brick and stone.\n",
      "- **Late 19th Century**: The discovery of gold in the Klondike region in 1896 led to the Klondike Gold Rush. Seattle served as a gateway to the Yukon, and its economy boomed as a result.\n",
      "\n",
      "### 20th Century\n",
      "- **Early 1900s**: Seattle continued to grow as a trade and manufacturing center. The shipbuilding industry became particularly important during World War I.\n",
      "- **1962**: Seattle hosted the Century 21 Exposition (World's Fair), (comparison.py:make_call:143)\n",
      "2024-05-02 09:15:27,549 - micro - MainProcess - INFO     Time taken for chat: 10 seconds or 9681 milliseconds. (comparison.py:make_call:144)\n"
     ]
    },
    {
     "name": "stdout",
     "output_type": "stream",
     "text": [
      "Call sent at (Local time): 2024-05-02 09:15:32.566884, (GMT): 2024-05-02 14:15:32.566884+00:00, Model: turbo-gpt4, Max Tokens: 400\n"
     ]
    },
    {
     "name": "stderr",
     "output_type": "stream",
     "text": [
      "2024-05-02 09:15:42,160 - micro - MainProcess - INFO     Seattle, located in the state of Washington in the United States, has a rich and diverse history, influenced by Native American cultures, European explorers, and Asian immigrants, among others.\n",
      "\n",
      "### Pre-European Settlement\n",
      "Before the arrival of European settlers, the area that is now Seattle was inhabited by Native American tribes, notably the Duwamish and Suquamish peoples. These tribes lived around the Puget Sound and Lake Washington, fishing, hunting, and gathering as their primary means of subsistence. Chief Seattle (Si'ahl), a prominent leader of the Suquamish and Duwamish tribes, is the city's namesake.\n",
      "\n",
      "### European Exploration and Settlement\n",
      "The first European to visit the Seattle area was George Vancouver in 1792. However, it wasn't until the mid-19th century that European settlers began to establish themselves in the area. Arthur A. Denny and his group of travelers, known as the Denny Party, arrived from Illinois via Portland, Oregon, in 1851 and settled at Alki Point in present-day West Seattle. They later moved to the eastern shore of Elliott Bay, founding what would become the city of Seattle.\n",
      "\n",
      "### Development and Growth\n",
      "Seattle's early economy was based on the timber industry, capitalizing on the abundant forests of the region. The city's growth accelerated with the discovery of gold in the Klondike region of Canada in 1897, leading to the Klondike Gold Rush. Seattle served as a major departure point for prospectors, and businesses in the city flourished by outfitting them with supplies.\n",
      "\n",
      "### 20th Century Expansion\n",
      "Throughout the 20th century, Seattle continued to grow as a commercial hub, with the establishment of companies such as Boeing in 1916, which became a major employer and was significant for the city’s development and economy, particularly in aerospace and defense industries. The city also became a cultural center in the Pacific Northwest, known for its music, arts, and as a (comparison.py:make_call:143)\n",
      "2024-05-02 09:15:42,164 - micro - MainProcess - INFO     Time taken for chat: 10 seconds or 9593 milliseconds. (comparison.py:make_call:144)\n"
     ]
    },
    {
     "name": "stdout",
     "output_type": "stream",
     "text": [
      "Call sent at (Local time): 2024-05-02 09:15:47.176735, (GMT): 2024-05-02 14:15:47.176735+00:00, Model: turbo-gpt4, Max Tokens: 400\n"
     ]
    },
    {
     "name": "stderr",
     "output_type": "stream",
     "text": [
      "2024-05-02 09:15:56,795 - micro - MainProcess - INFO     Seattle, located in the state of Washington in the United States, has a rich history that dates back thousands of years. Here is an overview of Seattle's history, from its early indigenous inhabitants to its development into a major city:\n",
      "\n",
      "### Indigenous Peoples\n",
      "- The area now known as Seattle has been inhabited for at least 4,000 years.\n",
      "- The Duwamish Tribe, along with other local tribes such as the Suquamish, were the original inhabitants. They lived off the land and the sea, fishing, hunting, and gathering.\n",
      "\n",
      "### European Exploration\n",
      "- The first European to visit the Seattle area was George Vancouver, in 1792. However, it wasn't until the mid-19th century that European settlers began to establish a permanent presence.\n",
      "\n",
      "### Founding of Seattle\n",
      "- Seattle was officially founded on November 13, 1851, by Arthur A. Denny and his group of travelers from Illinois, known as the Denny Party.\n",
      "- The city was named after Chief Si’ahl (Seattle) of the local Duwamish and Suquamish tribes.\n",
      "\n",
      "### Economic Development\n",
      "- The city initially grew as a logging town. Its location on Puget Sound made it ideal for transporting timber.\n",
      "- The discovery of gold in the Klondike in 1896 led to the Klondike Gold Rush, which transformed Seattle into a major transportation and supply center for miners.\n",
      "\n",
      "### 20th Century Growth\n",
      "- The early 20th century saw significant industrial growth, including shipbuilding and aircraft manufacturing. Boeing, founded in 1916, became a major employer.\n",
      "- World War II further boosted the local economy, particularly through ship and aircraft production.\n",
      "\n",
      "### Technological and Economic Expansion\n",
      "- The latter half of the 20th century and the early 21st century saw Seattle becoming a hub for technology. Microsoft, founded in 1975, and Amazon, founded in 1994, are headquartered nearby.\n",
      "- The city has also become known (comparison.py:make_call:143)\n",
      "2024-05-02 09:15:56,798 - micro - MainProcess - INFO     Time taken for chat: 10 seconds or 9618 milliseconds. (comparison.py:make_call:144)\n"
     ]
    },
    {
     "name": "stdout",
     "output_type": "stream",
     "text": [
      "Call sent at (Local time): 2024-05-02 09:16:01.816917, (GMT): 2024-05-02 14:16:01.816917+00:00, Model: turbo-gpt4, Max Tokens: 400\n"
     ]
    },
    {
     "name": "stderr",
     "output_type": "stream",
     "text": [
      "2024-05-02 09:16:11,550 - micro - MainProcess - INFO     Seattle, located in the Pacific Northwest region of the United States, has a rich and varied history that reflects both indigenous cultures and modern urban development. Below is an overview of Seattle's key historical points:\n",
      "\n",
      "### Pre-European Settlement\n",
      "Before European settlers, the area now known as Seattle was inhabited by Native American tribes, predominantly the Duwamish and Suquamish peoples. These tribes had established villages and lived off the land, fishing in the abundant waters and gathering in the dense forests.\n",
      "\n",
      "### European Exploration and Settlement\n",
      "European exploration began in the late 18th century, with British explorer George Vancouver being one of the first to map the area in 1792. However, it wasn’t until the 1850s that European settlers, led by Arthur A. Denny and his group of travelers known as the Denny Party, established a permanent settlement. They named the city after Chief Si’ahl (Seattle) of the local Duwamish and Suquamish tribes.\n",
      "\n",
      "### Development and Growth\n",
      "Throughout the late 19th and early 20th centuries, Seattle became a major gateway for trade with Asia and later with Alaska during the Klondike Gold Rush, which significantly boosted the city's population and economic status. The city also experienced major industrial growth, notably in timber and later in aerospace with Boeing setting up operations there in 1916.\n",
      "\n",
      "### 20th Century Challenges and Growth\n",
      "Seattle faced numerous challenges in the 20th century, including a devastating fire in 1889 that destroyed the central business district. The city quickly rebuilt, using more durable materials, leading to a construction boom. The Great Depression hit Seattle hard, but it later became a major production center during World War II, further boosting its economy.\n",
      "\n",
      "### Modern Era\n",
      "In the latter half of the 20th century and into the 21st century, Seattle became known for its thriving technology sector, with companies like Microsoft and Amazon establishing headquarters in the region. This has led to significant economic growth, (comparison.py:make_call:143)\n",
      "2024-05-02 09:16:11,552 - micro - MainProcess - INFO     Time taken for chat: 10 seconds or 9733 milliseconds. (comparison.py:make_call:144)\n"
     ]
    },
    {
     "name": "stdout",
     "output_type": "stream",
     "text": [
      "Call sent at (Local time): 2024-05-02 09:16:16.566846, (GMT): 2024-05-02 14:16:16.566846+00:00, Model: turbo-gpt4, Max Tokens: 400\n"
     ]
    },
    {
     "name": "stderr",
     "output_type": "stream",
     "text": [
      "2024-05-02 09:16:26,511 - micro - MainProcess - INFO     Seattle, Washington, is a city rich in history, characterized by its dynamic growth and diverse culture. Here's an overview of its development:\n",
      "\n",
      "### Native Settlements\n",
      "Before European settlers, the area was inhabited by Native American tribes such as the Duwamish and Suquamish. These tribes lived around the Puget Sound and Lake Washington for thousands of years, thriving on the abundant natural resources.\n",
      "\n",
      "### European Exploration\n",
      "European exploration began in the 18th century. In 1792, British explorer Captain George Vancouver was one of the first Europeans to visit the area. However, it wasn't until the mid-19th century that European settlers began to establish a permanent presence.\n",
      "\n",
      "### Founding and Early Growth\n",
      "Seattle was officially founded on November 13, 1851, by Arthur A. Denny and his group of travelers known as the Denny Party. They initially settled at Alki Point but soon moved to the eastern shore of Elliott Bay, which is now downtown Seattle. The city was named after Chief Si'ahl (Seattle) of the local Duwamish and Suquamish tribes.\n",
      "\n",
      "### Economic Development\n",
      "The city's early economy was based on the timber industry. Seattle served as a gateway for travelers heading to Alaska during the Klondike Gold Rush in 1897, which significantly boosted its economic and population growth. This period led to the establishment of a more robust infrastructure and the rise of its first major industries, including shipping, fishing, and logging.\n",
      "\n",
      "### 20th Century Expansion\n",
      "The 20th century saw further expansion of the city. The Alaska-Yukon-Pacific Exposition in 1909 put Seattle on the world map. Post World War II, the city experienced another economic boom with the rise of companies like Boeing, which became a leading manufacturer of commercial airplanes. Seattle became a hub for technology and innovation, especially during the tech boom in the late 20th century with companies like Microsoft and Amazon establishing headquarters in the region.\n",
      "\n",
      "### Cultural (comparison.py:make_call:143)\n",
      "2024-05-02 09:16:26,514 - micro - MainProcess - INFO     Time taken for chat: 10 seconds or 9944 milliseconds. (comparison.py:make_call:144)\n"
     ]
    },
    {
     "name": "stdout",
     "output_type": "stream",
     "text": [
      "Call sent at (Local time): 2024-05-02 09:16:31.524600, (GMT): 2024-05-02 14:16:31.524600+00:00, Model: turbo-gpt4, Max Tokens: 800\n"
     ]
    },
    {
     "name": "stderr",
     "output_type": "stream",
     "text": [
      "2024-05-02 09:16:46,493 - micro - MainProcess - INFO     Seattle, located in the Pacific Northwest in the state of Washington, has a rich and diverse history that reflects its growth from a Native American dwelling to a major global city.\n",
      "\n",
      "### Native Settlement\n",
      "Before European settlers arrived, the Seattle area was inhabited for at least 4,000 years by Native Americans. The Duwamish Tribe, among others, were the original inhabitants, living around Elliott Bay and relying on fishing, hunting, and gathering.\n",
      "\n",
      "### European Exploration\n",
      "The first Europeans to see the area were part of an expedition led by George Vancouver in 1792. However, it was not until the mid-19th century that European settlers began to establish a permanent presence.\n",
      "\n",
      "### Founding and Growth\n",
      "The city was officially founded on November 13, 1851, by Arthur A. Denny and his group of travelers, known as the Denny Party. They originally settled at Alki Point but soon moved to the eastern shore of Elliott Bay. The city was named after Chief Seattle, a leader of the local Duwamish and Suquamish tribes.\n",
      "\n",
      "### Economic Development\n",
      "Seattle's early economy relied heavily on the timber industry. The city's location provided easy access to the abundant forests of the Pacific Northwest, and it quickly became known as the \"Queen City\" because of its burgeoning lumber industry. The completion of the transcontinental railway in 1884 further spurred growth, connecting Seattle with markets across the country.\n",
      "\n",
      "### The Great Fire and Rebuilding\n",
      "In 1889, a massive fire destroyed the central business district. But the city quickly rebuilt, using more durable materials like brick and stone. This rebuilding phase set the stage for further expansion.\n",
      "\n",
      "### 20th Century Boom\n",
      "The early 20th century saw Seattle becoming a major gateway for trade with Asia and Alaska. The Alaska Gold Rush of 1897 turned Seattle into a transportation hub. In the 20th century, Seattle became a center for aircraft manufacturing with the establishment of Boeing in 1916, which played a significant role during WWII.\n",
      "\n",
      "### Cultural Development\n",
      "Seattle is known for its vibrant music scene and is considered the birthplace of grunge music in the early 1990s, with bands like Nirvana, Pearl Jam, and Soundgarden. The city has also made significant contributions to the visual arts, literature, and theater.\n",
      "\n",
      "### Tech Hub\n",
      "In recent decades, Seattle has emerged as a major tech hub. It is home to large corporations like Microsoft and Amazon, which have driven economic growth but also contributed to challenges like housing affordability and traffic congestion.\n",
      "\n",
      "### Challenges and Modern Seattle\n",
      "Today, Seattle is a bustling metropolis known for its high-tech industries, coffee culture (Starbucks was founded here), and vibrant cultural scene. However, it faces challenges such as homelessness and gentrification. The city continues to evolve, balancing growth with sustainability and quality of life for its residents.\n",
      "\n",
      "This brief history highlights Seattle's transformation from a quiet settlement of Native Americans to a major player on the global stage. Its rich history is a testament to the resilience and innovation of its people. (comparison.py:make_call:143)\n",
      "2024-05-02 09:16:46,495 - micro - MainProcess - INFO     Time taken for chat: 15 seconds or 14969 milliseconds. (comparison.py:make_call:144)\n"
     ]
    },
    {
     "name": "stdout",
     "output_type": "stream",
     "text": [
      "Call sent at (Local time): 2024-05-02 09:16:51.510200, (GMT): 2024-05-02 14:16:51.510200+00:00, Model: turbo-gpt4, Max Tokens: 800\n"
     ]
    },
    {
     "name": "stderr",
     "output_type": "stream",
     "text": [
      "2024-05-02 09:17:04,312 - micro - MainProcess - INFO     Seattle, located in the state of Washington in the Pacific Northwest region of the United States, has a rich and varied history. Here’s a brief overview:\n",
      "\n",
      "### Native Inhabitants and European Settlement\n",
      "Before European settlers arrived, the Seattle area was inhabited by Native American tribes, primarily the Duwamish and Suquamish peoples. The area was rich in resources, enabling the tribes to thrive on fishing, hunting, and gathering.\n",
      "\n",
      "### Founding and Growth\n",
      "The city itself was founded in the mid-19th century by European settlers. It was named after Chief Seattle, a prominent leader of the local Duwamish and Suquamish tribes. The city's growth was initially slow but took off with the arrival of the railroad in the late 19th century, which connected it to the rest of the country and facilitated trade.\n",
      "\n",
      "### The Gold Rush\n",
      "Seattle became a major transportation and supply hub during the Klondike Gold Rush in 1897. This event significantly boosted the city's economy and population as thousands of people passed through Seattle on their way to the gold fields in the Yukon.\n",
      "\n",
      "### 20th Century Industrialization\n",
      "Throughout the 20th century, Seattle became a center for industry with companies like Boeing, founded in 1916, which played a key role in the city's economic development. The city also became known for its thriving music scene, particularly jazz, and later grunge music in the 1990s, with bands like Nirvana and Pearl Jam.\n",
      "\n",
      "### Tech Boom\n",
      "In recent decades, Seattle has become a major tech hub, home to tech giants such as Microsoft and Amazon. This has brought significant economic growth to the area but also challenges like rising housing costs and traffic congestion.\n",
      "\n",
      "### Modern Challenges and Progress\n",
      "Today, Seattle is known for its progressive politics, extensive public parks, and high quality of life. However, it also faces challenges such as homelessness and social inequality.\n",
      "\n",
      "Seattle continues to be a city of significant cultural, economic, and educational importance in the United States, known for its vibrant culture, beautiful landscapes, and innovative industries. (comparison.py:make_call:143)\n",
      "2024-05-02 09:17:04,315 - micro - MainProcess - INFO     Time taken for chat: 13 seconds or 12802 milliseconds. (comparison.py:make_call:144)\n"
     ]
    },
    {
     "name": "stdout",
     "output_type": "stream",
     "text": [
      "Call sent at (Local time): 2024-05-02 09:17:09.332089, (GMT): 2024-05-02 14:17:09.332964+00:00, Model: turbo-gpt4, Max Tokens: 800\n"
     ]
    },
    {
     "name": "stderr",
     "output_type": "stream",
     "text": [
      "2024-05-02 09:17:23,177 - micro - MainProcess - INFO     Seattle, located in the state of Washington in the United States, boasts a rich and dynamic history. Here is an overview of the key events and elements that have shaped the city:\n",
      "\n",
      "### Indigenous Beginnings\n",
      "Before European settlers, the Seattle area was inhabited by Native Americans for at least 4,000 years. The Duwamish and Suquamish Tribes were the original inhabitants, and Chief Si'ahl (Chief Seattle), leader of both tribes, is the city's namesake.\n",
      "\n",
      "### European Settlement\n",
      "European exploration began in the 18th century with Spanish explorers followed by British. However, the first permanent European settlers arrived in the Seattle area in 1851. A group led by Arthur A. Denny, known as the Denny Party, established a settlement they initially called \"New York-Alki\" in what is now West Seattle before moving to the eastern shore of Elliott Bay, the present-day Pioneer Square.\n",
      "\n",
      "### Growth and Development\n",
      "Seattle grew steadily starting from its incorporation in 1869, bolstered by the lumber industry. The city's growth was further accelerated by the arrival of the Northern Pacific Railway in 1884, making it a transportation hub.\n",
      "\n",
      "### The Klondike Gold Rush\n",
      "Seattle became a pivotal supply point during the Klondike Gold Rush in 1897, leading to a population boom and economic growth. This era significantly shaped Seattle's development, bringing wealth and a diverse population.\n",
      "\n",
      "### 20th Century Industrialization\n",
      "Throughout the 20th century, Seattle continued to expand economically with the establishment of companies like Boeing (founded in 1916), which turned the city into an aviation hub. The mid-20th century saw the emergence of tech companies, most notably Microsoft, founded in 1975, which set the stage for Seattle's later status as a tech industry powerhouse.\n",
      "\n",
      "### Cultural Evolution\n",
      "Seattle is known for its vibrant music scene, being the birthplace of grunge music in the 1990s, with bands like Nirvana, Pearl Jam, and Soundgarden. The city also has a rich performing arts scene, with institutions like the Seattle Symphony Orchestra and the Seattle Opera.\n",
      "\n",
      "### Modern Era\n",
      "Today, Seattle is a major gate to Asia and a hub for global tech companies like Amazon and Microsoft. It's known for its progressive politics, extensive park systems, and coffee culture (being the birthplace of Starbucks). The city continues to face challenges such as managing rapid growth and maintaining housing affordability.\n",
      "\n",
      "### Challenges and Resilience\n",
      "Seattle, like many major cities, has faced its share of challenges, from economic downturns to natural disasters like earthquakes. However, its resilience and ability to reinvent itself are evident throughout its history.\n",
      "\n",
      "This brief overview touches on the key points in Seattle's history, illustrating its transformation from a Native American dwelling place to a bustling, modern, and culturally rich urban center. (comparison.py:make_call:143)\n",
      "2024-05-02 09:17:23,180 - micro - MainProcess - INFO     Time taken for chat: 14 seconds or 13845 milliseconds. (comparison.py:make_call:144)\n"
     ]
    },
    {
     "name": "stdout",
     "output_type": "stream",
     "text": [
      "Call sent at (Local time): 2024-05-02 09:17:28.185933, (GMT): 2024-05-02 14:17:28.185933+00:00, Model: turbo-gpt4, Max Tokens: 800\n"
     ]
    },
    {
     "name": "stderr",
     "output_type": "stream",
     "text": [
      "2024-05-02 09:17:42,221 - micro - MainProcess - INFO     Seattle, Washington, has a rich and diverse history that spans thousands of years. Here’s an overview of some of the key events and periods in the history of Seattle:\n",
      "\n",
      "### Pre-European Settlement\n",
      "Before European settlers arrived, the area now known as Seattle was inhabited by Native American tribes, notably the Duwamish and Suquamish peoples. These indigenous groups lived around Elliott Bay, fishing and gathering, and forming a complex society with rich traditions.\n",
      "\n",
      "### European Exploration\n",
      "European exploration in the region began in the 18th century. In 1792, British explorer George Vancouver was one of the first Europeans to visit the area. However, it wasn’t until the mid-19th century that European settlers began to establish a permanent presence.\n",
      "\n",
      "### Founding and Early Years\n",
      "Seattle was officially founded on November 13, 1851, by Arthur A. Denny and his group of travelers known as the Denny Party. They originally settled at Alki Point but soon moved to the eastern shore of Elliott Bay, which became the central hub of the city.\n",
      "\n",
      "### Economic Development\n",
      "Seattle's early economy relied heavily on the timber industry. As trees were abundant in the region, logging became the first major industry. Later, with the development of rail connections to the rest of the country, Seattle became a transportation hub. The discovery of gold in the Klondike in 1896 led to the Klondike Gold Rush, which transformed Seattle into a bustling metropolis and a gateway to Alaska.\n",
      "\n",
      "### 20th Century Growth\n",
      "Throughout the 20th century, Seattle continued to grow. The city hosted a successful world's fair, the Century 21 Exposition, in 1962, which led to the construction of the iconic Space Needle and other infrastructure developments. Seattle also became an important center for the aircraft industry, with Boeing being one of the major employers.\n",
      "\n",
      "### Cultural and Economic Expansion\n",
      "In the latter half of the 20th century and into the 21st century, Seattle became known for its thriving tech industry, with companies like Microsoft and Amazon establishing their headquarters in the region. This brought significant economic growth and attracted a diverse population.\n",
      "\n",
      "### Recent Times\n",
      "Today, Seattle is known for its vibrant music scene, famous coffee culture, and as a leader in green technology and sustainable living. It is also a city rich in arts and culture, with numerous museums, galleries, theaters, and music venues.\n",
      "\n",
      "### Challenges\n",
      "Like many major cities, Seattle faces challenges such as housing affordability, homelessness, and traffic congestion. The city is actively engaged in addressing these issues through various policies and initiatives.\n",
      "\n",
      "Seattle’s history is a tale of transformation from a Native American dwelling place to a small logging town to a major global tech hub, reflecting broader trends in American and world history. (comparison.py:make_call:143)\n",
      "2024-05-02 09:17:42,224 - micro - MainProcess - INFO     Time taken for chat: 14 seconds or 14036 milliseconds. (comparison.py:make_call:144)\n"
     ]
    },
    {
     "name": "stdout",
     "output_type": "stream",
     "text": [
      "Call sent at (Local time): 2024-05-02 09:17:47.242222, (GMT): 2024-05-02 14:17:47.242222+00:00, Model: turbo-gpt4, Max Tokens: 800\n"
     ]
    },
    {
     "name": "stderr",
     "output_type": "stream",
     "text": [
      "2024-05-02 09:18:01,787 - micro - MainProcess - INFO     Seattle, the largest city in the Pacific Northwest region of the United States, has a rich and varied history. \n",
      "\n",
      "**Native American History:**\n",
      "The area surrounding Seattle has been inhabited by Native Americans for at least 4,000 years. The Duwamish Tribe and other local tribes were the first known inhabitants. The name \"Seattle\" comes from Chief Sealth (or Si'ahl), a leader of the local Duwamish and Suquamish tribes.\n",
      "\n",
      "**European Settlement:**\n",
      "The first European to visit the area was George Vancouver, in 1792. However, the first permanent European settlers did not arrive until the mid-19th century. Arthur A. Denny and his group of travelers, known as the Denny Party, arrived from Illinois via Portland, Oregon, in 1851. They settled at Alki Point and later moved to the eastern shore of Elliott Bay, founding the town of Seattle in 1852.\n",
      "\n",
      "**Growth and Development:**\n",
      "Seattle's growth was initially slow but was spurred significantly by the arrival of the Northern Pacific Railway in 1884, which connected the city to the East Coast. This transformed Seattle into a major transportation hub. The Klondike Gold Rush of 1897 further accelerated Seattle's development as thousands of people poured into the city, equipping themselves before heading north to seek their fortunes.\n",
      "\n",
      "**20th Century:**\n",
      "The early 20th century saw continued growth with the establishment of shipbuilding and aircraft manufacturing industries. The Boeing Company, founded in 1916 by William Boeing, became a major employer and economic driver. Seattle also experienced significant cultural developments during this period, including the founding of the Seattle Symphony in 1903 and the Seattle Art Museum in 1933.\n",
      "\n",
      "**Post-World War II:**\n",
      "After World War II, Seattle continued to expand with suburban development and increased car ownership. The 1962 Seattle World's Fair, also known as the Century 21 Exposition, was a significant event, symbolizing Seattle's status as a forward-looking, technology-oriented city. The fair left a lasting legacy, including the iconic Space Needle and the Monorail.\n",
      "\n",
      "**Recent Developments:**\n",
      "In recent decades, Seattle has become a major tech hub, home to corporations like Microsoft, Amazon, and numerous startup companies. The city has faced challenges such as rising housing costs and traffic congestion but continues to be a center for innovation and culture.\n",
      "\n",
      "**Cultural and Social Movements:**\n",
      "Seattle has a history of vibrant cultural and social movements, from the labor movements of the early 20th century to the grunge music scene of the 1990s, which produced bands like Nirvana and Pearl Jam.\n",
      "\n",
      "**Environmental History:**\n",
      "Seattle is also known for its strong environmental policies and commitment to sustainable development, reflecting the lush, green landscape that surrounds the city.\n",
      "\n",
      "This brief overview touches on the high points of Seattle's history, from its founding to its present status as a bustling, cosmopolitan city known for its technology sector, culture, and natural beauty. (comparison.py:make_call:143)\n",
      "2024-05-02 09:18:01,789 - micro - MainProcess - INFO     Time taken for chat: 15 seconds or 14546 milliseconds. (comparison.py:make_call:144)\n"
     ]
    },
    {
     "name": "stdout",
     "output_type": "stream",
     "text": [
      "Call sent at (Local time): 2024-05-02 09:18:06.806560, (GMT): 2024-05-02 14:18:06.806560+00:00, Model: turbo-gpt4, Max Tokens: 1000\n"
     ]
    },
    {
     "name": "stderr",
     "output_type": "stream",
     "text": [
      "2024-05-02 09:18:25,811 - micro - MainProcess - INFO     Seattle, Washington, has a rich and multifaceted history that reflects the growth and change of the American West. Here are some key points in the history of Seattle:\n",
      "\n",
      "1. **Native Settlements**: Long before European settlers arrived, the area was inhabited by Native American tribes such as the Duwamish and Suquamish. The land was rich in resources, with abundant salmon and fertile soil.\n",
      "\n",
      "2. **European Exploration**: The first European to visit the Seattle area was George Vancouver in 1792. However, it wasn’t until the mid-19th century that European settlers began to establish a permanent presence.\n",
      "\n",
      "3. **Founding of the City**: Seattle was officially founded on November 13, 1851, by Arthur A. Denny and his group of travelers from Illinois, known as the Denny Party. They settled at Alki Point and later moved to the eastern shore of Elliott Bay, establishing what would become downtown Seattle.\n",
      "\n",
      "4. **Naming the City**: Originally named \"New York Alki\" by the Denny Party, the settlement was renamed \"Seattle\" after Chief Si’ahl (Chief Seattle) of the local Duwamish and Suquamish tribes, a supportive figure to the early settlers.\n",
      "\n",
      "5. **Economic Growth**: The discovery of coal in the region and the establishment of lumber mills contributed to Seattle’s early economy. The arrival of the Northern Pacific Railway in 1884 further stimulated growth, making Seattle a transportation hub.\n",
      "\n",
      "6. **The Great Fire of 1889**: A major fire destroyed the central business district. However, the city quickly rebuilt, using more durable materials like brick and stone, and implemented a better organized urban plan.\n",
      "\n",
      "7. **Klondike Gold Rush**: In 1897, Seattle became a gateway to the Klondike Gold Rush in Alaska. This significantly boosted the city's economy and population, as it became a point of departure for prospectors and miners.\n",
      "\n",
      "8. **20th Century Industrialization**: Throughout the 20th century, Seattle became a major industrial center. The establishment of Boeing in 1916 was particularly significant, turning the city into a hub for aircraft manufacturing. During World War II, Seattle was a major production center for warplanes.\n",
      "\n",
      "9. **Post-War Development**: After World War II, Seattle continued to grow with expanded city limits, development of suburbs, and improvements in infrastructure. The construction of the Space Needle for the 1962 World’s Fair symbolized Seattle's burgeoning cultural and economic renaissance.\n",
      "\n",
      "10. **Tech Boom**: In the late 20th and early 21st centuries, Seattle emerged as a major tech hub. The presence of companies like Microsoft, founded in 1975, and Amazon, founded in 1994, contributed to significant economic growth and demographic changes.\n",
      "\n",
      "11. **Contemporary Seattle**: Today, Seattle is known for its vibrant music scene, robust coffee culture, progressive politics, and its leading role in the tech industry. It also faces challenges such as traffic congestion, high living costs, and issues related to homelessness.\n",
      "\n",
      "This brief overview encapsulates the major milestones in Seattle's development from a native settlement to a modern tech city. Each period in its history has contributed layers of complexity and charm to this dynamic city. (comparison.py:make_call:143)\n",
      "2024-05-02 09:18:25,814 - micro - MainProcess - INFO     Time taken for chat: 19 seconds or 19005 milliseconds. (comparison.py:make_call:144)\n"
     ]
    },
    {
     "name": "stdout",
     "output_type": "stream",
     "text": [
      "Call sent at (Local time): 2024-05-02 09:18:30.822760, (GMT): 2024-05-02 14:18:30.822760+00:00, Model: turbo-gpt4, Max Tokens: 1000\n"
     ]
    },
    {
     "name": "stderr",
     "output_type": "stream",
     "text": [
      "2024-05-02 09:18:45,462 - micro - MainProcess - INFO     Seattle, located in the Pacific Northwest region of the United States, has a rich and diverse history that spans thousands of years. Here's an overview of some key points in the history of Seattle:\n",
      "\n",
      "**Native Settlements:**\n",
      "Before European settlers arrived, the area that is now Seattle was inhabited by Native American tribes, including the Duwamish, Suquamish, Snoqualmie, and Muckleshoot. These tribes lived around the Puget Sound and Lake Washington, fishing, hunting, and gathering, with a rich culture deeply connected to the land and the sea.\n",
      "\n",
      "**European Exploration:**\n",
      "The first European to visit the Seattle area was George Vancouver, who explored Puget Sound in 1792. However, it wasn't until the mid-19th century that European settlers began to establish permanent settlements.\n",
      "\n",
      "**Founding of Seattle:**\n",
      "Seattle was founded on November 13, 1851, by Arthur A. Denny and his group of travelers who later became known as the Denny Party. They originally settled at Alki Point but soon moved to the eastern shore of Elliott Bay, which is now downtown Seattle.\n",
      "\n",
      "**Name Origin:**\n",
      "Seattle is named after Chief Si’ahl (or Sealth) of the local Duwamish and Suquamish tribes. Chief Seattle was known for his leadership and efforts to accommodate the European settlers.\n",
      "\n",
      "**Economic Development:**\n",
      "In its early years, Seattle's economy was based on logging and sawmilling. The city's location and natural harbor made it a natural transportation hub. The discovery of gold in the Klondike in 1896 led to the Klondike Gold Rush, which transformed Seattle into a major transportation and supply center.\n",
      "\n",
      "**20th Century Growth:**\n",
      "Throughout the 20th century, Seattle continued to grow. The establishment of companies like Boeing in 1916 spurred growth in the aviation industry, making Seattle a hub for manufacturing. World War II further boosted the city’s economy as it became a center for war production.\n",
      "\n",
      "**Technological Hub:**\n",
      "In the latter half of the 20th century and into the 21st century, Seattle became known for its technology industry, with Microsoft, founded in 1975, playing a key role in this transition. The city has also become a hub for biotechnology, clean technology, and internet-based companies, with Amazon establishing its headquarters there in 1994.\n",
      "\n",
      "**Cultural Development:**\n",
      "Seattle is known for its vibrant music scene, being the birthplace of grunge music in the 1990s, and has a thriving arts scene. The city is also home to the Seattle Symphony Orchestra, the Seattle Opera, and numerous theaters.\n",
      "\n",
      "**Recent Times:**\n",
      "Today, Seattle is a bustling metropolis known for its high standard of living, its coffee culture (home to Starbucks), and as a forward-thinking, environmentally conscious city. It continues to face challenges such as urban growth, housing affordability, and transportation infrastructure.\n",
      "\n",
      "Seattle's history of adaptability and innovation makes it a unique city with a dynamic past and a promising future. (comparison.py:make_call:143)\n",
      "2024-05-02 09:18:45,465 - micro - MainProcess - INFO     Time taken for chat: 15 seconds or 14640 milliseconds. (comparison.py:make_call:144)\n"
     ]
    },
    {
     "name": "stdout",
     "output_type": "stream",
     "text": [
      "Call sent at (Local time): 2024-05-02 09:18:50.472054, (GMT): 2024-05-02 14:18:50.472054+00:00, Model: turbo-gpt4, Max Tokens: 1000\n"
     ]
    },
    {
     "name": "stderr",
     "output_type": "stream",
     "text": [
      "2024-05-02 09:19:04,458 - micro - MainProcess - INFO     Seattle, located in the Pacific Northwest region of the United States, has a rich and diverse history that dates back thousands of years. Here's an overview of Seattle's history, from its earliest days to the modern era:\n",
      "\n",
      "### Pre-European Settlement\n",
      "Before European explorers arrived, the area was inhabited by Native American tribes, primarily the Duwamish and Suquamish peoples. These groups lived in the region for thousands of years, sustaining themselves with the abundant natural resources, particularly fish like salmon.\n",
      "\n",
      "### European Exploration and Settlement\n",
      "The first European to visit the Seattle area was George Vancouver, in 1792. However, permanent European settlement did not begin until the mid-19th century. In 1851, a group led by Arthur A. Denny, now known as the Denny Party, landed at Alki Point in what is now West Seattle. They later relocated to the eastern shore of Elliott Bay, establishing what would become the city of Seattle. The city is named after Chief Seattle (Si'ahl) of the Duwamish and Suquamish tribes.\n",
      "\n",
      "### Growth and Development\n",
      "Seattle grew rapidly as a result of the logging industry, and later, the Klondike Gold Rush in 1897, which established the city as a transportation and supply hub for miners heading to Alaska. The early 20th century saw further growth with the establishment of shipbuilding industries during World War I and later, the rise of Boeing in the aerospace sector after World War II.\n",
      "\n",
      "### Mid-20th Century\n",
      "Post World War II, Seattle continued to expand economically and culturally. The 1962 World's Fair, known as the Century 21 Exposition, was a pivotal event, symbolizing Seattle's aspirations towards becoming a major world city. The fair left the city with several landmarks, including the Space Needle and the Monorail.\n",
      "\n",
      "### Modern Era\n",
      "In recent decades, Seattle has become a hub for the technology industry, with Microsoft, Amazon, and numerous other tech companies headquartered in or near the city. This has led to significant economic growth, but also challenges such as housing affordability and traffic congestion.\n",
      "\n",
      "### Cultural and Social Movements\n",
      "Seattle has a history of strong civic activism and is known for its progressive politics. It was a hotbed for the grunge music movement in the 1990s, home to bands like Nirvana and Pearl Jam. The city is also known for its support of the arts, environmental sustainability, and social justice.\n",
      "\n",
      "### Challenges and the Future\n",
      "Today, Seattle faces challenges related to its rapid growth and development, including maintaining housing affordability, transportation, and sustainability. However, its strong economy and cultural vitality continue to make it an influential city on the national and international stages.\n",
      "\n",
      "This brief history shows how Seattle has evolved from a Native American dwelling place to a major global metropolis, shaped by its natural environment, indigenous heritage, and waves of economic and cultural change. (comparison.py:make_call:143)\n",
      "2024-05-02 09:19:04,460 - micro - MainProcess - INFO     Time taken for chat: 14 seconds or 13986 milliseconds. (comparison.py:make_call:144)\n"
     ]
    },
    {
     "name": "stdout",
     "output_type": "stream",
     "text": [
      "Call sent at (Local time): 2024-05-02 09:19:09.473535, (GMT): 2024-05-02 14:19:09.473535+00:00, Model: turbo-gpt4, Max Tokens: 1000\n"
     ]
    },
    {
     "name": "stderr",
     "output_type": "stream",
     "text": [
      "2024-05-02 09:19:28,304 - micro - MainProcess - INFO     Seattle, located in the state of Washington, has a rich and diverse history. Here’s an overview of some key events and developments in the city's history:\n",
      "\n",
      "**Native American Beginnings**\n",
      "- Seattle has been inhabited for at least 4,000 years. The area was originally inhabited by the Duwamish and Suquamish tribes. The name \"Seattle\" actually comes from Chief Si’ahl (or Chief Seattle), a leader of the local tribes.\n",
      "\n",
      "**European Settlement**\n",
      "- The first Europeans visited the Seattle area in 1792, a party led by George Vancouver. However, the first permanent European settlers arrived much later, in the mid-19th century. Arthur A. Denny and his group of travelers, known later as the Denny Party, arrived from Illinois via Portland, Oregon, and settled at Alki Point in November 1851. They later moved to the eastern shore of Elliott Bay, establishing what would become downtown Seattle.\n",
      "\n",
      "**Development and Growth**\n",
      "- Early Seattle was dependent on the logging industry; its location was ideal for transporting logs by sea. As the trees were cleared, the city became a commercial center.\n",
      "- The city officially incorporated on December 2, 1869.\n",
      "- The arrival of the Great Northern Railway in 1884 spurred further growth, establishing Seattle as a transportation hub.\n",
      "\n",
      "**The Gold Rush**\n",
      "- Seattle became a major transportation and supply point for miners during the Klondike Gold Rush in 1897. This brought a rapid increase in the population and wealth of Seattle.\n",
      "\n",
      "**20th Century**\n",
      "- The early 20th century saw continued growth. The Alaska-Yukon-Pacific Exposition in 1909 put Seattle on the map as a major American city.\n",
      "- Boeing was founded in 1916 and became a major employer in the region, establishing Seattle as an aerospace hub.\n",
      "- World War II further boosted the local economy as Seattle became a center for war production.\n",
      "\n",
      "**Post-War Era and Civil Rights**\n",
      "- The post-war years brought suburbanization and the development of the automobile infrastructure. However, like many American cities, Seattle faced deindustrialization and economic difficulties in the later 20th century.\n",
      "- The civil rights era of the 1960s brought significant social change to Seattle, with various groups, including African Americans, Asian Americans, and women, advocating for equal rights.\n",
      "\n",
      "**Tech Boom**\n",
      "- The late 20th and early 21st centuries have seen Seattle become a center for technology, innovation, and entrepreneurship. Microsoft, founded in 1975 in nearby Albuquerque, New Mexico, and moved to the Seattle area in 1979, was pivotal in this transformation. Amazon was founded in Seattle in 1994.\n",
      "- This tech boom has brought significant economic growth but also challenges such as rising housing prices and traffic congestion.\n",
      "\n",
      "**Modern Seattle**\n",
      "- Today, Seattle is known for its vibrant music scene, including grunge music in the 1990s, its strong coffee culture, progressive politics, and beautiful natural surroundings. It continues to face challenges related to growth, such as gentrification and inequality.\n",
      "\n",
      "Seattle's history is one of transformation and resilience, with its ability to adapt and grow being central to its character. (comparison.py:make_call:143)\n",
      "2024-05-02 09:19:28,308 - micro - MainProcess - INFO     Time taken for chat: 19 seconds or 18831 milliseconds. (comparison.py:make_call:144)\n"
     ]
    },
    {
     "name": "stdout",
     "output_type": "stream",
     "text": [
      "Call sent at (Local time): 2024-05-02 09:19:33.316247, (GMT): 2024-05-02 14:19:33.316247+00:00, Model: turbo-gpt4, Max Tokens: 1000\n"
     ]
    },
    {
     "name": "stderr",
     "output_type": "stream",
     "text": [
      "2024-05-02 09:19:47,226 - micro - MainProcess - INFO     Seattle, located in the state of Washington in the United States, has a rich and varied history that reflects its growth from a Native American habitat to a major, modern metropolis.\n",
      "\n",
      "**Native American Beginnings**\n",
      "The area surrounding Seattle has been inhabited by Native American tribes for at least 4,000 years. The Duwamish, Suquamish, Snoqualmie, Snohomish, Muckleshoot, and other local tribes had established villages along the waterways of what is now called the Puget Sound region.\n",
      "\n",
      "**European Exploration and Settlement**\n",
      "The first European to visit the Seattle area was George Vancouver, in May 1792. He came as part of a British expedition to chart the Pacific Northwest. However, it wasn't until the mid-19th century that European settlers, led by Arthur A. Denny and his group of travelers (known as the Denny Party), arrived from Illinois via Portland, Oregon. They landed at Alki Point in November 1851 and later moved to the eastern shore of Elliott Bay, establishing what would become downtown Seattle.\n",
      "\n",
      "**Development and Growth**\n",
      "Seattle was officially incorporated on December 2, 1869. The city grew steadily thanks to its timber industry, and later, the discovery of gold in the Klondike in 1896 set off a rush that transformed Seattle into a major transportation hub. This boom period led to significant population growth and economic expansion.\n",
      "\n",
      "**20th Century Expansion**\n",
      "Throughout the 20th century, Seattle continued to grow, with key events shaping its development:\n",
      "- The Alaska-Yukon-Pacific Exposition in 1909.\n",
      "- Establishment of major companies like Boeing (founded in 1916), which turned Seattle into an aviation hub.\n",
      "- World War II saw Seattle become a major shipbuilding center.\n",
      "\n",
      "The post-war era brought new challenges and opportunities, including the construction of the Interstate Highway System and the rise of Microsoft and Amazon in the late 20th and early 21st centuries, which helped establish Seattle as a tech hub.\n",
      "\n",
      "**Recent Developments**\n",
      "Today, Seattle is known for its vibrant music scene, including grunge music in the 1990s, its thriving tech industry, and its progressive environmental policies. The city continues to face challenges such as managing its rapid growth and the gentrification that has come with it, as well as issues related to homelessness.\n",
      "\n",
      "From its Indigenous roots to its current status as a bustling, diverse city, Seattle's history is a testament to its resilience and capacity for reinvention. (comparison.py:make_call:143)\n",
      "2024-05-02 09:19:47,228 - micro - MainProcess - INFO     Time taken for chat: 14 seconds or 13910 milliseconds. (comparison.py:make_call:144)\n"
     ]
    },
    {
     "name": "stdout",
     "output_type": "stream",
     "text": [
      "Call sent at (Local time): 2024-05-02 09:20:07.253345, (GMT): 2024-05-02 14:20:07.253345+00:00, Model: gpt4-1106, Max Tokens: 100\n"
     ]
    },
    {
     "name": "stderr",
     "output_type": "stream",
     "text": [
      "2024-05-02 09:20:16,147 - micro - MainProcess - INFO     Seattle, the largest city in the Pacific Northwest region of the United States, has a rich and varied history that reflects its diverse cultural heritage and its evolution from a small indigenous settlement to a major global city.\n",
      "\n",
      "### Indigenous History\n",
      "The Seattle area has been inhabited for at least 4,000 years by Native American tribes. The Duwamish, Suquamish, Snoqualmie, Snohomish, and Muckleshoot tribes (among others) are indigenous to the Puget Sound region. (comparison.py:make_call:143)\n",
      "2024-05-02 09:20:16,150 - micro - MainProcess - INFO     Time taken for chat: 9 seconds or 8894 milliseconds. (comparison.py:make_call:144)\n"
     ]
    },
    {
     "name": "stdout",
     "output_type": "stream",
     "text": [
      "Call sent at (Local time): 2024-05-02 09:20:21.168254, (GMT): 2024-05-02 14:20:21.168254+00:00, Model: gpt4-1106, Max Tokens: 100\n"
     ]
    },
    {
     "name": "stderr",
     "output_type": "stream",
     "text": [
      "2024-05-02 09:20:31,211 - micro - MainProcess - INFO     Seattle, located in the Pacific Northwest region of the United States, has a rich and varied history. Here’s an overview of how the city evolved over the years:\n",
      "\n",
      "**Pre-European Settlement:**\n",
      "Before European explorers arrived, the Seattle area was inhabited by Native American tribes for at least 4,000 years. The Duwamish, Suquamish, Tulalip, and Muckleshoot tribes were among those who lived in this region, relying on the abundant natural resources of the land (comparison.py:make_call:143)\n",
      "2024-05-02 09:20:31,214 - micro - MainProcess - INFO     Time taken for chat: 10 seconds or 10043 milliseconds. (comparison.py:make_call:144)\n"
     ]
    },
    {
     "name": "stdout",
     "output_type": "stream",
     "text": [
      "Call sent at (Local time): 2024-05-02 09:20:36.220369, (GMT): 2024-05-02 14:20:36.220369+00:00, Model: gpt4-1106, Max Tokens: 100\n"
     ]
    },
    {
     "name": "stderr",
     "output_type": "stream",
     "text": [
      "2024-05-02 09:20:47,908 - micro - MainProcess - INFO     Seattle, the largest city in the Pacific Northwest region of the United States, has a rich and varied history. Its story is one of native cultures, European exploration and settlement, economic booms and busts, and a continual transformation driven by its inhabitants and their relationship with the surrounding environment.\n",
      "\n",
      "**Native History and European Contact**\n",
      "\n",
      "Before European settlers, the Seattle area was inhabited by Native American tribes for at least 4,000 years. The Duwamish, Suquamish, Snoqualmie (comparison.py:make_call:143)\n",
      "2024-05-02 09:20:47,910 - micro - MainProcess - INFO     Time taken for chat: 12 seconds or 11688 milliseconds. (comparison.py:make_call:144)\n"
     ]
    },
    {
     "name": "stdout",
     "output_type": "stream",
     "text": [
      "Call sent at (Local time): 2024-05-02 09:20:52.926047, (GMT): 2024-05-02 14:20:52.926047+00:00, Model: gpt4-1106, Max Tokens: 100\n"
     ]
    },
    {
     "name": "stderr",
     "output_type": "stream",
     "text": [
      "2024-05-02 09:21:14,641 - micro - MainProcess - INFO     Seattle, located in the Pacific Northwest region of the United States, has a rich history that reflects the confluence of Native American, European, and Asian cultures, as well as its development into a modern metropolis.\n",
      "\n",
      "**Native American Roots**\n",
      "Before the arrival of European settlers, the Seattle area was inhabited by Native American tribes such as the Duwamish, Suquamish, Nisqually, and Muckleshoot. These peoples had complex societies and lived off the abundant natural resources of the (comparison.py:make_call:143)\n",
      "2024-05-02 09:21:14,644 - micro - MainProcess - INFO     Time taken for chat: 22 seconds or 21715 milliseconds. (comparison.py:make_call:144)\n"
     ]
    },
    {
     "name": "stdout",
     "output_type": "stream",
     "text": [
      "Call sent at (Local time): 2024-05-02 09:21:19.647702, (GMT): 2024-05-02 14:21:19.647702+00:00, Model: gpt4-1106, Max Tokens: 100\n"
     ]
    },
    {
     "name": "stderr",
     "output_type": "stream",
     "text": [
      "2024-05-02 09:21:34,461 - micro - MainProcess - INFO     Seattle, the largest city in the Pacific Northwest region of the United States, has a rich and varied history. Here's an overview of the city's development from its earliest settlements to the modern era:\n",
      "\n",
      "**Indigenous Beginnings and European Contact:**\n",
      "Before the arrival of European settlers, the Seattle area was inhabited by Native American tribes, primarily the Duwamish and Suquamish peoples. These indigenous inhabitants lived off the land, fishing the abundant waters and gathering resources from the forests.\n",
      "\n",
      "**Colon (comparison.py:make_call:143)\n",
      "2024-05-02 09:21:34,462 - micro - MainProcess - INFO     Time taken for chat: 15 seconds or 14813 milliseconds. (comparison.py:make_call:144)\n"
     ]
    },
    {
     "name": "stdout",
     "output_type": "stream",
     "text": [
      "Call sent at (Local time): 2024-05-02 09:21:39.471353, (GMT): 2024-05-02 14:21:39.471353+00:00, Model: gpt4-1106, Max Tokens: 200\n"
     ]
    },
    {
     "name": "stderr",
     "output_type": "stream",
     "text": [
      "2024-05-02 09:22:17,310 - micro - MainProcess - INFO     Seattle, located in the Pacific Northwest region of the United States, has a rich and diverse history that reflects a blend of Native American heritage, European settlement, and modern innovation. Here's an overview of Seattle's history:\n",
      "\n",
      "### Pre-European Settlement\n",
      "- Seattle is named after Chief Si'ahl (also spelled Sealth), a leader of the local Duwamish and Suquamish tribes.\n",
      "- The area was inhabited by Native Americans for at least 4,000 years before the first European settlers arrived. These indigenous people lived off the land, fishing in the abundant waters and gathering resources from the forests.\n",
      "\n",
      "### European Exploration and Settlement\n",
      "- The first European to visit the Seattle area was George Vancouver in 1792 during his expedition to chart the Pacific Northwest.\n",
      "- The Denny Party, a group of American pioneers led by Arthur A. Denny, is credited with founding Seattle on November 13, 1851, at Alki Point.\n",
      "- The settlement was initially called \"New York (comparison.py:make_call:143)\n",
      "2024-05-02 09:22:17,314 - micro - MainProcess - INFO     Time taken for chat: 38 seconds or 37839 milliseconds. (comparison.py:make_call:144)\n"
     ]
    },
    {
     "name": "stdout",
     "output_type": "stream",
     "text": [
      "Call sent at (Local time): 2024-05-02 09:22:22.320830, (GMT): 2024-05-02 14:22:22.321595+00:00, Model: gpt4-1106, Max Tokens: 200\n"
     ]
    },
    {
     "name": "stderr",
     "output_type": "stream",
     "text": [
      "2024-05-02 09:22:39,965 - micro - MainProcess - INFO     Seattle, the largest city in the Pacific Northwest region of the United States, has a rich and varied history that reflects its growth from a small Native American dwelling to a major global city. Here's a brief overview:\n",
      "\n",
      "**Pre-European Settlement:**\n",
      "Before European settlers arrived, the area that would become Seattle was home to the Duwamish and other Native American tribes for at least 4,000 years. These indigenous peoples had established a complex and rich culture, with elaborate trade networks, social systems, and a deep connection to the land and sea.\n",
      "\n",
      "**European Exploration:**\n",
      "European exploration of the Puget Sound region began in the late 18th century, with the British explorer George Vancouver being one of the first to map the area in 1792. However, it wasn't until the mid-19th century that European settlers began to establish permanent settlements.\n",
      "\n",
      "**Founding of Seattle:**\n",
      "Seattle was officially founded on November 13, 1851, by a group of settlers led (comparison.py:make_call:143)\n",
      "2024-05-02 09:22:39,967 - micro - MainProcess - INFO     Time taken for chat: 18 seconds or 17644 milliseconds. (comparison.py:make_call:144)\n"
     ]
    },
    {
     "name": "stdout",
     "output_type": "stream",
     "text": [
      "Call sent at (Local time): 2024-05-02 09:22:44.974559, (GMT): 2024-05-02 14:22:44.974559+00:00, Model: gpt4-1106, Max Tokens: 200\n"
     ]
    },
    {
     "name": "stderr",
     "output_type": "stream",
     "text": [
      "2024-05-02 09:23:01,158 - micro - MainProcess - INFO     Seattle, the largest city in the Pacific Northwest region of the United States, has a rich and diverse history. Here is an overview of Seattle's history, from its earliest known settlements to its development into a modern metropolis:\n",
      "\n",
      "### Indigenous History\n",
      "- Before European settlement, the area that is now Seattle was inhabited by Native American tribes, predominantly the Duwamish and Suquamish peoples. These tribes had complex social structures and lived off the abundant natural resources, including fish (especially salmon), game, and berries.\n",
      "\n",
      "### European Exploration\n",
      "- The first European to visit the Seattle area was George Vancouver, who explored the Pacific Northwest coast in 1792. However, it wasn't until the mid-19th century that European-Americans began to settle in the area.\n",
      "\n",
      "### Settlement and Naming\n",
      "- The Denny Party, a group of pioneers led by Arthur A. Denny, is credited with founding Seattle in 1851. They initially settled at Alki Point but soon moved to the area (comparison.py:make_call:143)\n",
      "2024-05-02 09:23:01,159 - micro - MainProcess - INFO     Time taken for chat: 16 seconds or 16184 milliseconds. (comparison.py:make_call:144)\n"
     ]
    },
    {
     "name": "stdout",
     "output_type": "stream",
     "text": [
      "Call sent at (Local time): 2024-05-02 09:23:06.170706, (GMT): 2024-05-02 14:23:06.170706+00:00, Model: gpt4-1106, Max Tokens: 200\n"
     ]
    },
    {
     "name": "stderr",
     "output_type": "stream",
     "text": [
      "2024-05-02 09:23:27,095 - micro - MainProcess - INFO     Seattle, the largest city in the Pacific Northwest region of the United States, has a rich and diverse history that reflects its evolution from a small indigenous settlement to a bustling modern city. Here is an overview of Seattle's history:\n",
      "\n",
      "**Indigenous History:**\n",
      "Before European settlers arrived, the Seattle area was inhabited by Native American tribes for at least 4,000 years. The Duwamish tribe and other Coast Salish peoples were the original inhabitants of the land that is now called Seattle. They lived in permanent and seasonal settlements, fishing in the abundant waters and gathering resources from the land.\n",
      "\n",
      "**European Exploration and Settlement:**\n",
      "The first European to visit the Seattle area was George Vancouver, who explored Puget Sound in 1792. However, it wasn't until the 1850s that European settlers began to establish themselves in the area. Arthur A. Denny and his group of settlers, known as the Denny Party, arrived in 1851 and established a settlement on Alki (comparison.py:make_call:143)\n",
      "2024-05-02 09:23:27,096 - micro - MainProcess - INFO     Time taken for chat: 21 seconds or 20925 milliseconds. (comparison.py:make_call:144)\n"
     ]
    },
    {
     "name": "stdout",
     "output_type": "stream",
     "text": [
      "Call sent at (Local time): 2024-05-02 09:23:32.107962, (GMT): 2024-05-02 14:23:32.107962+00:00, Model: gpt4-1106, Max Tokens: 200\n"
     ]
    },
    {
     "name": "stderr",
     "output_type": "stream",
     "text": [
      "2024-05-02 09:24:03,834 - micro - MainProcess - INFO     Seattle, the largest city in the Pacific Northwest region of the United States, has a rich and varied history. Here's an overview of the city's past:\n",
      "\n",
      "**Indigenous History:**\n",
      "Before European settlers arrived, the Seattle area was inhabited by Native American tribes for at least 4,000 years. The Duwamish Tribe, among others, lived around Elliott Bay and the surrounding areas, fishing and hunting in the rich environment.\n",
      "\n",
      "**European Exploration and Settlement:**\n",
      "The first Europeans to see the area were part of the Spanish expedition led by Bruno de Heceta in 1775. However, the first European settlers didn't arrive until the 1850s. The Denny Party, a group of pioneers from Illinois, is often credited with founding Seattle on November 13, 1851.\n",
      "\n",
      "**Naming the City:**\n",
      "After initially naming the settlement \"New York Alki\" (\"Alki\" meaning \"by and by\" in the Chinook Jargon), the name was (comparison.py:make_call:143)\n",
      "2024-05-02 09:24:03,837 - micro - MainProcess - INFO     Time taken for chat: 32 seconds or 31727 milliseconds. (comparison.py:make_call:144)\n"
     ]
    },
    {
     "name": "stdout",
     "output_type": "stream",
     "text": [
      "Call sent at (Local time): 2024-05-02 09:24:08.852765, (GMT): 2024-05-02 14:24:08.852765+00:00, Model: gpt4-1106, Max Tokens: 400\n"
     ]
    },
    {
     "name": "stderr",
     "output_type": "stream",
     "text": [
      "2024-05-02 09:24:51,040 - micro - MainProcess - INFO     Seattle, the largest city in the Pacific Northwest region of the United States, has a rich and varied history. Here's an overview of Seattle's historical timeline:\n",
      "\n",
      "**Pre-European Contact:**\n",
      "The area that would become Seattle has been inhabited for at least 4,000 years by Native American tribes, primarily the Duwamish and Suquamish peoples. The region was rich in resources, including large populations of fish, shellfish, and game, and was characterized by a complex social structure with a rich tradition of art, trade, and spiritual practices.\n",
      "\n",
      "**Mid-19th Century - European Settlement:**\n",
      "- **1851:** The first European settlers, led by Arthur A. Denny and his group of travelers known as the Denny Party, arrived at Alki Point in what is now West Seattle. They moved to the eastern shore of Elliott Bay the following spring.\n",
      "- **1852:** Henry Yesler built the first steam-powered sawmill, which was a key factor in the city's early economic growth.\n",
      "- **1853:** Washington Territory was established.\n",
      "- **1869:** Seattle was officially incorporated as a city with a population of around 2,000.\n",
      "\n",
      "**Late 19th Century - Growth and Development:**\n",
      "- **1889:** The Great Seattle Fire destroyed much of the central business district. However, the city quickly rebuilt, using the opportunity to improve infrastructure with better streets and buildings, a professional fire department, and a new sewer system.\n",
      "- **1897:** The Klondike Gold Rush brought a significant number of prospectors, miners, and entrepreneurs to Seattle, which served as a gateway to the goldfields in Alaska and the Yukon. This period led to rapid growth and economic development.\n",
      "\n",
      "**Early to Mid-20th Century - Ups and Downs:**\n",
      "- **1909:** Seattle hosted the Alaska-Yukon-Pacific Exposition, celebrating the development of the Pacific Northwest.\n",
      "- **World War I and II:** The city's shipbuilding (comparison.py:make_call:143)\n",
      "2024-05-02 09:24:51,043 - micro - MainProcess - INFO     Time taken for chat: 42 seconds or 42188 milliseconds. (comparison.py:make_call:144)\n"
     ]
    },
    {
     "name": "stdout",
     "output_type": "stream",
     "text": [
      "Call sent at (Local time): 2024-05-02 09:24:56.048850, (GMT): 2024-05-02 14:24:56.048850+00:00, Model: gpt4-1106, Max Tokens: 400\n"
     ]
    },
    {
     "name": "stderr",
     "output_type": "stream",
     "text": [
      "2024-05-02 09:25:51,600 - micro - MainProcess - INFO     Seattle is a city located in the Pacific Northwest region of the United States, in the state of Washington. It has a rich and diverse history that reflects its growth from a small Native American settlement to a major global city. Here are key points in the history of Seattle:\n",
      "\n",
      "**Native American Period**\n",
      "\n",
      "- The area where Seattle now stands was inhabited by Native American tribes for thousands of years before the arrival of European settlers. The predominant tribes in the region were the Duwamish and Suquamish, among others, who lived off the land and the waters of Puget Sound.\n",
      "\n",
      "**European Exploration**\n",
      "\n",
      "- The first European to visit the area was the Spanish explorer Manuel Quimper in 1790, but it wasn't until the British explorer Captain George Vancouver mapped the Puget Sound in 1792 that the area began to be known to the wider world.\n",
      "\n",
      "**Settlement Era**\n",
      "\n",
      "- The first permanent European settlers arrived in the 1850s. Arthur A. Denny and his group of travelers, known as the Denny Party, are considered the founders of Seattle. They first landed at Alki Point in November 1851 and later moved to the east shore of Elliott Bay, where the city's central business district is now located.\n",
      "\n",
      "**City Incorporation**\n",
      "\n",
      "- Seattle was officially incorporated on December 2, 1869. The city is named after Chief Si'ahl (Seattle), a leader of the local Duwamish and Suquamish tribes.\n",
      "\n",
      "**Economic Development**\n",
      "\n",
      "- Early economic drivers included logging, due to the abundance of forests in the area, and fishing. The city grew slowly until the arrival of the transcontinental railroad in the late 19th century, which connected it to the rest of the country and spurred growth.\n",
      "\n",
      "**Klondike Gold Rush**\n",
      "\n",
      "- The discovery of gold in the Klondike region of Canada in 1896 triggered the Klondike Gold Rush. Seattle became the main outfitter for prospectors heading to the (comparison.py:make_call:143)\n",
      "2024-05-02 09:25:51,602 - micro - MainProcess - INFO     Time taken for chat: 56 seconds or 55552 milliseconds. (comparison.py:make_call:144)\n"
     ]
    },
    {
     "name": "stdout",
     "output_type": "stream",
     "text": [
      "Call sent at (Local time): 2024-05-02 09:25:56.618748, (GMT): 2024-05-02 14:25:56.618748+00:00, Model: gpt4-1106, Max Tokens: 400\n"
     ]
    },
    {
     "name": "stderr",
     "output_type": "stream",
     "text": [
      "2024-05-02 09:26:48,652 - micro - MainProcess - INFO     Seattle, located in the Pacific Northwest region of the United States, has a rich and diverse history. Here's an overview of Seattle's historical development:\n",
      "\n",
      "**Indigenous Peoples and European Contact:**\n",
      "Before European settlers arrived, the area that is now Seattle was inhabited by Native American tribes, primarily the Duwamish and other Coast Salish peoples. They lived in the region for thousands of years, developing a rich culture and subsisting on the abundant natural resources.\n",
      "\n",
      "**Colonial Settlement:**\n",
      "The first European to visit the area was George Vancouver, who explored the Pacific Northwest coast in 1792. However, it wasn't until the mid-19th century that European-American settlers began to establish a permanent presence.\n",
      "\n",
      "**Founding of Seattle:**\n",
      "Seattle was founded on November 13, 1851, by a group of settlers led by Arthur A. Denny, who is credited with establishing the first permanent European-American colony, known as the Denny Party. The settlement was initially called New York-Alki (\"Alki\" meaning \"by and by\" in the Chinook Jargon) but was later renamed Seattle after Chief Si'ahl (Sealth) of the local Duwamish and Suquamish tribes.\n",
      "\n",
      "**Growth and Development:**\n",
      "The city grew as a logging town and became a hub for the timber industry, with its economy bolstered by the Klondike Gold Rush in the late 19th century. Seattle's strategic location led to the development of its shipping and shipbuilding industries, and it served as a point of departure for prospectors heading to Alaska.\n",
      "\n",
      "**20th Century Expansion:**\n",
      "Throughout the 20th century, Seattle continued to expand. It hosted the Alaska-Yukon-Pacific Exposition in 1909, which showcased the city's growth and potential. The Boeing Company, founded in 1916 by William Boeing, transformed Seattle into a major center for aircraft manufacturing, especially during World War II when the demand for military aircraft surged (comparison.py:make_call:143)\n",
      "2024-05-02 09:26:48,657 - micro - MainProcess - INFO     Time taken for chat: 52 seconds or 52034 milliseconds. (comparison.py:make_call:144)\n"
     ]
    },
    {
     "name": "stdout",
     "output_type": "stream",
     "text": [
      "Call sent at (Local time): 2024-05-02 09:26:53.667289, (GMT): 2024-05-02 14:26:53.667289+00:00, Model: gpt4-1106, Max Tokens: 400\n"
     ]
    },
    {
     "name": "stderr",
     "output_type": "stream",
     "text": [
      "2024-05-02 09:29:26,263 - micro - MainProcess - INFO     Seattle, located in the Pacific Northwest region of the United States, has a rich and diverse history. Here's a brief overview of the city's development from its early days to the present:\n",
      "\n",
      "### Pre-European Settlement\n",
      "- The area now known as Seattle has been inhabited for at least 4,000 years by Native American tribes. The Duwamish tribe and others lived around Elliott Bay, fishing and hunting in the rich environment.\n",
      "\n",
      "### European Exploration and Settlement\n",
      "- The first European to visit the Seattle area was George Vancouver, in 1792. However, it wasn't until the mid-19th century that European settlers began to establish a permanent presence.\n",
      "- The Denny Party, a group of pioneers led by Arthur A. Denny, arrived at Alki Point in West Seattle in 1851. They moved to the eastern shore of Elliott Bay the following spring, founding the town of Seattle in 1852.\n",
      "\n",
      "### Naming and Incorporation\n",
      "- Seattle is named after Chief Si'ahl (or Sealth) of the local Duwamish and Suquamish tribes.\n",
      "- The city was officially incorporated on December 2, 1869.\n",
      "\n",
      "### Economic Development\n",
      "- The early economy was based on logging and timber export. Seattle's position as a port city facilitated trade with San Francisco and other areas.\n",
      "- The discovery of gold in the Yukon in 1896 led to the Klondike Gold Rush, transforming Seattle into a major transportation and supply center for prospectors.\n",
      "\n",
      "### 20th Century Growth\n",
      "- The early 1900s saw the Alaska-Yukon-Pacific Exposition, which promoted development and brought international attention to the city.\n",
      "- Boeing was founded in Seattle in 1916 and became a major employer, especially during World War II, when it played a pivotal role in the aviation industry.\n",
      "- The city continued to grow as a tech hub with companies like Microsoft, founded in 1975, and Amazon, founded in 1994, (comparison.py:make_call:143)\n",
      "2024-05-02 09:29:26,265 - micro - MainProcess - INFO     Time taken for chat: 153 seconds or 152595 milliseconds. (comparison.py:make_call:144)\n"
     ]
    },
    {
     "name": "stdout",
     "output_type": "stream",
     "text": [
      "Call sent at (Local time): 2024-05-02 09:29:31.271288, (GMT): 2024-05-02 14:29:31.271288+00:00, Model: gpt4-1106, Max Tokens: 400\n"
     ]
    },
    {
     "name": "stderr",
     "output_type": "stream",
     "text": [
      "2024-05-02 09:30:23,330 - micro - MainProcess - INFO     Seattle, the largest city in the Pacific Northwest region of the United States, has a rich history that reflects both the development of the American frontier and the growth of urban centers in the modern era. Here is a brief overview of Seattle's history:\n",
      "\n",
      "**Indigenous History and European Contact:**\n",
      "Before European settlers arrived, the area around Seattle was inhabited by Native American tribes such as the Duwamish, Suquamish, Snoqualmie, and others. These tribes had complex social structures and thrived on the abundant natural resources of the region.\n",
      "\n",
      "**Founding and Early Settlement:**\n",
      "Seattle was founded on November 13, 1851, by a group of settlers led by Arthur A. Denny, now known as the Denny Party. They originally named the settlement \"New York-Alki,\" meaning \"by and by\" in the Chinook Jargon, but it was later renamed \"Seattle\" after Chief Si'ahl (Seattle) of the local Duwamish and Suquamish tribes. The city's natural harbor, Elliott Bay, made it a good location for the transfer of goods and people.\n",
      "\n",
      "**Economic Growth and Development:**\n",
      "Seattle's early economy was based on logging and milling timber, which was abundant in the region. As the city grew, it became a transportation and trade hub, particularly with the discovery of gold in the Klondike region of Canada in 1896. This event, known as the Klondike Gold Rush, brought a significant number of people to Seattle, which served as a gateway to the goldfields and benefited from the increased economic activity.\n",
      "\n",
      "**20th Century Expansion:**\n",
      "In the early 20th century, Seattle continued to expand. The shipbuilding and aviation industries played significant roles in the city's development, with companies like Boeing establishing a strong presence. The city also hosted the Alaska-Yukon-Pacific Exposition in 1909, which helped put Seattle on the map as a Pacific trade center. Throughout the century (comparison.py:make_call:143)\n",
      "2024-05-02 09:30:23,334 - micro - MainProcess - INFO     Time taken for chat: 52 seconds or 52058 milliseconds. (comparison.py:make_call:144)\n"
     ]
    },
    {
     "name": "stdout",
     "output_type": "stream",
     "text": [
      "Call sent at (Local time): 2024-05-02 09:30:28.343929, (GMT): 2024-05-02 14:30:28.343929+00:00, Model: gpt4-1106, Max Tokens: 800\n"
     ]
    },
    {
     "name": "stderr",
     "output_type": "stream",
     "text": [
      "2024-05-02 09:32:03,933 - micro - MainProcess - INFO     The history of Seattle, the largest city in the Pacific Northwest region of the United States, is rich and varied, encompassing thousands of years of native history, a 19th-century European settlement, rapid growth during the late 19th and early 20th centuries, and a transformation into a modern metropolis.\n",
      "\n",
      "**Native American Inhabitants**\n",
      "Before European settlers arrived, the Seattle area was inhabited by Native American tribes for at least 4,000 years. The Duwamish, Suquamish, Snoqualmie, Snohomish, and other Puget Sound tribes had established complex societies, fishing and hunting grounds, and seasonal camps throughout the region. The most notable leader from this period was Chief Seattle (Si'al), a Duwamish and Suquamish leader after whom the city was later named.\n",
      "\n",
      "**European Settlement**\n",
      "The European history of Seattle began in 1851 when a group of settlers led by Arthur A. Denny landed at Alki Point in what is now West Seattle. This Denny Party originally named their settlement \"New York Alki\" (\"Alki\" meaning \"by and by\" in the Chinook Jargon). They later moved across Elliott Bay to a more sheltered bay, which is now downtown Seattle.\n",
      "\n",
      "**Naming and Incorporation**\n",
      "The settlement was later renamed \"Seattle\" in honor of Chief Seattle. The city was officially incorporated on December 2, 1869.\n",
      "\n",
      "**Economic Development**\n",
      "The early economy of Seattle was based on logging and timber industries. The city's natural harbor, Elliott Bay, made it an ideal location for shipping timber to San Francisco and other growing West Coast cities.\n",
      "\n",
      "Seattle's growth accelerated with the arrival of the transcontinental railroad in 1884, making it easier to transport goods and people. The Klondike Gold Rush of 1897 further boosted the city's economy as Seattle served as the main outfitting and departure point for prospectors headed to Alaska.\n",
      "\n",
      "**20th Century Growth and Challenges**\n",
      "Seattle continued to grow rapidly in the early 20th century, with important contributions to shipbuilding during World War I. The interwar period brought the establishment of companies such as Boeing, which would become a significant player in the aerospace industry and a major employer in the region.\n",
      "\n",
      "The city, like many others, faced the hardships of the Great Depression but rebounded with the outbreak of World War II as industry and shipbuilding surged once again. Post-war, Seattle continued to develop its aerospace, technology, and education sectors, with the University of Washington playing a key role in the city's cultural and economic life.\n",
      "\n",
      "**World's Fair and the Space Needle**\n",
      "In 1962, Seattle hosted the Century 21 Exposition, also known as the Seattle World's Fair. This event left a lasting legacy, including iconic structures like the Space Needle and the Monorail.\n",
      "\n",
      "**Recent History**\n",
      "In recent decades, Seattle has become a hub for technology and innovation, with companies like Microsoft, Amazon, and Starbucks headquartered in the area. The city has also been known for its music scene, being the birthplace of grunge in the 1990s, and for its environmental and progressive political stances.\n",
      "\n",
      "**21st Century Seattle**\n",
      "Today, Seattle faces challenges common to many modern cities, such as managing growth, housing affordability, and transportation. It remains a vibrant, diverse city that continues to attract residents and visitors alike with its natural beauty, cultural offerings, and economic opportunities. (comparison.py:make_call:143)\n",
      "2024-05-02 09:32:03,935 - micro - MainProcess - INFO     Time taken for chat: 96 seconds or 95589 milliseconds. (comparison.py:make_call:144)\n"
     ]
    },
    {
     "name": "stdout",
     "output_type": "stream",
     "text": [
      "Call sent at (Local time): 2024-05-02 09:32:08.940181, (GMT): 2024-05-02 14:32:08.940181+00:00, Model: gpt4-1106, Max Tokens: 800\n"
     ]
    },
    {
     "name": "stderr",
     "output_type": "stream",
     "text": [
      "2024-05-02 09:33:33,689 - micro - MainProcess - INFO     Seattle is a city located in the Pacific Northwest region of the United States, in the state of Washington. It has a rich and diverse history that reflects the influences of Native American cultures, European settlers, Asian immigrants, and others who have contributed to its development. Here is a brief overview of Seattle's history:\n",
      "\n",
      "### Pre-European Settlement\n",
      "- **Native Inhabitants**: Before European settlers arrived, the Seattle area was inhabited by Native American tribes such as the Duwamish, Suquamish, Snoqualmie, Snohomish, and others. These tribes lived off the land and the sea, fishing, hunting, and gathering in a rich environment.\n",
      "\n",
      "### European Exploration and Settlement\n",
      "- **European Exploration**: The first Europeans to explore the region were Spanish explorers in the late 18th century, followed by British explorers like George Vancouver in 1792.\n",
      "- **Settlement**: The first permanent European settlers arrived in the Seattle area in 1851. Arthur A. Denny and his group of travelers, known as the Denny Party, established a settlement at Alki Point and later moved it to what is now downtown Seattle.\n",
      "\n",
      "### Growth and Development\n",
      "- **Naming the City**: Seattle is named after Chief Si'ahl (Sealth), a leader of the local Duwamish and Suquamish tribes.\n",
      "- **Timber Industry**: In the mid-19th century, Seattle's economy was driven by the timber industry; the area's vast forests were a valuable resource for growing American settlements and cities.\n",
      "- **Great Seattle Fire**: In 1889, a massive fire destroyed much of central Seattle. The city was quickly rebuilt, using more fire-resistant materials like brick and stone, and streets were regraded to improve the city's infrastructure.\n",
      "- **Klondike Gold Rush**: In 1897, Seattle became the main transport and supply point for prospectors during the Klondike Gold Rush in Yukon, Canada. This significantly boosted the city's population and economy.\n",
      "- **Shipbuilding and World War I**: The early 20th century saw growth in the shipbuilding industry, which was further accelerated by World War I, as Seattle became a major shipbuilding center.\n",
      "\n",
      "### 20th Century Expansion and Innovation\n",
      "- **Boeing and Aerospace**: The Boeing Company, founded by William Boeing in Seattle in 1916, became a major employer and economic force in the region, particularly with the rise of commercial aviation and aerospace innovation.\n",
      "- **World War II**: During World War II, Seattle's industrial base expanded further, with shipyards and Boeing contributing significantly to the war effort.\n",
      "- **Post-War Development**: After the war, Seattle continued to grow as a commercial and cultural hub. The University of Washington became a leading research institution, and the city's music and arts scene began to flourish.\n",
      "\n",
      "### Modern Seattle\n",
      "- **Century 21 Exposition**: In 1962, Seattle hosted the Century 21 Exposition (World's Fair), which left a lasting legacy, including landmarks like the Space Needle and the Monorail.\n",
      "- **Tech Hub**: In the late 20th and early 21st centuries, Seattle became known as a tech hub, with companies like Microsoft, Amazon, and others playing key roles in the global economy.\n",
      "- **Cultural Diversity**: Seattle's cultural landscape continued to diversify with significant Asian, Latin American, and African American communities contributing to the city's identity.\n",
      "- **Environmental Leadership**: The city is also known for its progressive environmental policies and a strong commitment to sustainability.\n",
      "\n",
      "### Challenges and Contemporary Issues\n",
      "- **Gentrification and Housing**: As with many growing cities, Seattle faces challenges related to gentrification, housing affordability, and homelessness.\n",
      "- **Social Movements**: Seattle has been a center for social activism and movements, including the WTO protests in 1999 and more recent Black Lives Matter demonstrations.\n",
      "\n",
      "Seattle's history is a testament to resilience, innovation, and diversity, (comparison.py:make_call:143)\n",
      "2024-05-02 09:33:33,691 - micro - MainProcess - INFO     Time taken for chat: 85 seconds or 84749 milliseconds. (comparison.py:make_call:144)\n"
     ]
    },
    {
     "name": "stdout",
     "output_type": "stream",
     "text": [
      "Call sent at (Local time): 2024-05-02 09:33:38.695355, (GMT): 2024-05-02 14:33:38.695355+00:00, Model: gpt4-1106, Max Tokens: 800\n"
     ]
    },
    {
     "name": "stderr",
     "output_type": "stream",
     "text": [
      "2024-05-02 09:35:18,880 - micro - MainProcess - INFO     Seattle, located in the Pacific Northwest region of the United States, has a rich and diverse history that reflects both indigenous cultures and the impact of European-American settlers, as well as the city's growth into a major metropolitan area.\n",
      "\n",
      "**Indigenous History:**\n",
      "The area now known as Seattle has been inhabited for at least 4,000 years by Native American tribes. The Duwamish Tribe, in particular, had a significant presence in the region and are considered the area's original inhabitants. The name \"Seattle\" itself comes from Chief Si'ahl (or Chief Sealth), a leader of the Duwamish and Suquamish tribes, who was known for his efforts to accommodate the influx of European settlers during the mid-19th century.\n",
      "\n",
      "**European Settlement:**\n",
      "The first European settlers arrived in the Seattle area in the 1850s. Arthur A. Denny and his group of settlers, now known as the Denny Party, landed at Alki Point in 1851 and later moved to the eastern shore of Elliott Bay, establishing the town of Seattle in 1852.\n",
      "\n",
      "**Early Growth:**\n",
      "The early economy of Seattle relied heavily on the timber industry, given the vast forests of the Pacific Northwest. The city's location also made it a natural transportation and shipping hub, leading to growth in trade and commerce.\n",
      "\n",
      "**The Great Seattle Fire:**\n",
      "In 1889, a major fire destroyed much of the central business district. However, the city swiftly rebuilt, using more durable materials like brick and stone, and as a result, the infrastructure was improved, including the creation of a professional fire department and a municipal water supply.\n",
      "\n",
      "**Gold Rush and Further Expansion:**\n",
      "Seattle experienced a significant population boom during the Klondike Gold Rush of 1897, as it became a primary departure point for prospectors heading to the Yukon. The city's economy diversified with the growth of shipping, shipbuilding, and other industries.\n",
      "\n",
      "**20th Century:**\n",
      "Throughout the 20th century, Seattle continued to grow. Two World's Fairs were held there—the Alaska-Yukon-Pacific Exposition in 1909 and the Century 21 Exposition in 1962—which led to further development and global recognition. The latter fair gave birth to the iconic Space Needle.\n",
      "\n",
      "The city became a hub for aircraft manufacturing, with Boeing establishing its headquarters there. During World War II, Seattle's shipyards and factories played a crucial role in the war effort.\n",
      "\n",
      "The post-war years saw the expansion of the suburbs and the construction of the Interstate Highway system, which transformed the city's landscape and connectivity.\n",
      "\n",
      "**Civil Rights Movement and Political Activism:**\n",
      "Like many American cities, Seattle experienced civil rights activism and unrest during the 1960s and beyond. The city has a history of political activism, environmentalism, and progressive politics.\n",
      "\n",
      "**Technology and Modern Growth:**\n",
      "In the latter half of the 20th century and into the 21st, Seattle became a center for technology and innovation, with companies like Microsoft, Amazon, and Starbucks originating there, contributing to significant economic growth and demographic changes.\n",
      "\n",
      "**Recent Developments:**\n",
      "Seattle has faced challenges such as rising housing costs, homelessness, and traffic congestion due to its rapid growth. The city continues to be a leader in sustainable urban development and cultural diversity.\n",
      "\n",
      "This brief history touches on some of the key points in Seattle's past, but there is much more to explore in the history of this dynamic city, from its arts and music scenes to its role in the digital age. (comparison.py:make_call:143)\n",
      "2024-05-02 09:35:18,883 - micro - MainProcess - INFO     Time taken for chat: 100 seconds or 100185 milliseconds. (comparison.py:make_call:144)\n"
     ]
    },
    {
     "name": "stdout",
     "output_type": "stream",
     "text": [
      "Call sent at (Local time): 2024-05-02 09:35:23.888399, (GMT): 2024-05-02 14:35:23.888399+00:00, Model: gpt4-1106, Max Tokens: 800\n"
     ]
    },
    {
     "name": "stderr",
     "output_type": "stream",
     "text": [
      "2024-05-02 09:36:49,421 - micro - MainProcess - INFO     The history of Seattle, located in the state of Washington in the United States, spans thousands of years. It is a city rich in culture and diversity, with a story that includes Native American tribes, European settlers, the Gold Rush, and the rise of major corporations.\n",
      "\n",
      "### Native Inhabitants\n",
      "Before European settlers arrived, the Seattle area was inhabited by Native American tribes for at least 4,000 years. The Duwamish Tribe and Suquamish Tribe, among others, lived around what is now Seattle, subsisting on the abundant natural resources of the land and waters.\n",
      "\n",
      "### European Settlement\n",
      "The first European to visit the Seattle area was George Vancouver, who arrived in 1792. However, the first permanent European settlers arrived much later. In 1851, a group of pioneers led by Arthur A. Denny landed at Alki Point in what is now West Seattle. This settlement was soon moved to the eastern shore of Elliott Bay, which offered better shelter from storms.\n",
      "\n",
      "### Founding of the City\n",
      "The town of Seattle was officially founded on May 23, 1853, and named after Chief Si'ahl (Seattle), a leader of the local Duwamish and Suquamish tribes. Henry Yesler built the first steam-powered sawmill, which became a key industry for the city, along with coal mining and fishing.\n",
      "\n",
      "### Great Fire and Reconstruction\n",
      "On June 6, 1889, a fire destroyed much of the central business district. The city used this as an opportunity to rebuild with more permanent materials, including brick and stone, and to regrade streets and improve infrastructure.\n",
      "\n",
      "### Klondike Gold Rush\n",
      "In 1897, Seattle became the main transport and supply point for miners during the Klondike Gold Rush. This economic boom accelerated the city's growth and prompted further development in transportation and services.\n",
      "\n",
      "### 20th Century Growth\n",
      "During the early 20th century, Seattle continued to grow, with its port becoming one of the busiest in the United States. It also saw a surge in shipbuilding during World War I. The city suffered during the Great Depression but recovered in the lead-up to World War II when its industries were focused on the war effort, particularly airplane manufacturing by Boeing.\n",
      "\n",
      "### Post-War Development\n",
      "After World War II, Seattle continued to expand. The city hosted the Century 21 Exposition, a World's Fair, in 1962, which left it with landmarks like the Space Needle and the Monorail. It also became a cultural hub, fostering a vibrant music scene that eventually led to the grunge movement in the 1990s, with bands like Nirvana and Pearl Jam.\n",
      "\n",
      "### Tech Boom and Modern Era\n",
      "Seattle became a tech industry center in the latter part of the 20th century and into the 21st. Microsoft, founded by Bill Gates and Paul Allen in 1975, set up its headquarters nearby in Redmond. Jeff Bezos founded Amazon in Seattle in 1994, which has since become one of the largest online retailers in the world. This tech boom has brought significant economic growth to the city, along with challenges such as housing affordability and traffic congestion.\n",
      "\n",
      "### Contemporary Issues\n",
      "Today, Seattle is known for its progressive politics, environmental movement, and coffee culture, with Starbucks having been founded here in 1971. The city continues to grapple with issues like homelessness, urban sprawl, and maintaining its cultural and historical heritage amidst rapid development and change.\n",
      "\n",
      "Seattle's history is one of growth, innovation, and resilience, and it remains an influential city both culturally and economically in the Pacific Northwest and beyond. (comparison.py:make_call:143)\n",
      "2024-05-02 09:36:49,432 - micro - MainProcess - INFO     Time taken for chat: 86 seconds or 85533 milliseconds. (comparison.py:make_call:144)\n"
     ]
    },
    {
     "name": "stdout",
     "output_type": "stream",
     "text": [
      "Call sent at (Local time): 2024-05-02 09:36:54.434903, (GMT): 2024-05-02 14:36:54.434903+00:00, Model: gpt4-1106, Max Tokens: 800\n"
     ]
    },
    {
     "name": "stderr",
     "output_type": "stream",
     "text": [
      "2024-05-02 09:37:50,364 - micro - MainProcess - INFO     The history of Seattle, the largest city in the Pacific Northwest region of the United States, is rich and varied, with significant growth and transformation over the years.\n",
      "\n",
      "**Indigenous History:**\n",
      "Before European settlers arrived, the Seattle area was inhabited by Native Americans for at least 4,000 years. The Duwamish Tribe and several other indigenous peoples lived in the area, and their descendants are still present today. They fished in the region's abundant waters and gathered a wide range of food resources from the forests and rivers.\n",
      "\n",
      "**European Exploration and Settlement:**\n",
      "European exploration of the area began in the late 18th century, with British explorer George Vancouver being one of the first Europeans to chart the Puget Sound in 1792. However, the first permanent European settlers did not arrive until the mid-19th century. Arthur A. Denny and his group of travelers, known as the Denny Party, arrived from Illinois and established the first European-American settlement in the area in November 1851.\n",
      "\n",
      "**Town Establishment and Growth:**\n",
      "The settlement was initially named \"Duwamps,\" but it was quickly renamed \"Seattle\" after Chief Si'ahl (also known as Chief Seattle) of the local Duwamish and Suquamish tribes. The new town grew slowly at first, but the discovery of coal nearby in the 1860s, followed by the timber industry boom, led to rapid growth.\n",
      "\n",
      "**Economic Development:**\n",
      "Seattle became a transportation and trade hub, benefiting from its prime location for shipping to Alaska and Asia. The Klondike Gold Rush of 1897 brought a massive influx of people to the city as it served as a gateway for prospectors headed to the Yukon. This period led to extensive economic growth and an increase in population.\n",
      "\n",
      "**20th Century:**\n",
      "In the early 20th century, Seattle continued to expand. It hosted the Alaska-Yukon-Pacific Exposition in 1909, which promoted the development of the University of Washington campus. The city's shipbuilding industry boomed during World War I, though it suffered during the Great Depression.\n",
      "\n",
      "World War II brought another economic surge to Seattle, particularly through the growth of the Boeing Company, which became a leading manufacturer of military and later commercial aircraft. The post-war period saw a population boom and suburban expansion.\n",
      "\n",
      "During the latter half of the 20th century, Seattle became a center for technology and innovation, with companies like Microsoft and Amazon establishing their headquarters in the region. The city also became known for its music scene, particularly grunge music in the 1990s, with bands like Nirvana, Pearl Jam, and Soundgarden.\n",
      "\n",
      "**Modern Seattle:**\n",
      "Today, Seattle is a thriving metropolis known for its diverse population, robust economy, and strong cultural scene. It faces challenges such as housing affordability and traffic congestion due to rapid growth. The city is also recognized for its commitment to sustainable practices and progressive policies.\n",
      "\n",
      "The history of Seattle is marked by its adaptability and resilience, as the city has continually reinvented itself in the face of changing economic and cultural landscapes. (comparison.py:make_call:143)\n",
      "2024-05-02 09:37:50,367 - micro - MainProcess - INFO     Time taken for chat: 56 seconds or 55929 milliseconds. (comparison.py:make_call:144)\n"
     ]
    },
    {
     "name": "stdout",
     "output_type": "stream",
     "text": [
      "Call sent at (Local time): 2024-05-02 09:37:55.386019, (GMT): 2024-05-02 14:37:55.386019+00:00, Model: gpt4-1106, Max Tokens: 1000\n"
     ]
    },
    {
     "name": "stderr",
     "output_type": "stream",
     "text": [
      "2024-05-02 09:39:07,407 - micro - MainProcess - INFO     Seattle, the largest city in the Pacific Northwest region of the United States, has a rich and varied history. Here is an overview of the key events and periods in Seattle's history:\n",
      "\n",
      "**Indigenous Beginnings and Early Exploration:**\n",
      "Before European settlers arrived, the Seattle area was inhabited by Native American tribes for at least 4,000 years. The Duwamish and Suquamish peoples, among others, lived around Elliott Bay and the surrounding regions. They called the area \"smqWu məš,\" meaning \"place of clear salt water.\"\n",
      "\n",
      "**European Settlement:**\n",
      "The first European to visit the Seattle area was George Vancouver in 1792 during his expedition to chart the Pacific Northwest. However, it wasn't until the mid-19th century that European settlers began to establish themselves in the area.\n",
      "\n",
      "**Founding of Seattle:**\n",
      "The official founding of Seattle is dated to November 13, 1851, when a group of settlers led by Arthur A. Denny arrived at Alki Point in what is now West Seattle. The settlement was initially named \"New York-Alki\" (\"Alki\" meaning \"by and by\" in the Chinook Jargon), but it was later moved across Elliott Bay to a location that is now Downtown Seattle and renamed \"Seattle\" after Chief Si'ahl (Sealth) of the local Duwamish and Suquamish tribes.\n",
      "\n",
      "**Growth and Development:**\n",
      "In its early years, Seattle's economy was based on the timber industry, as the surrounding forests provided an abundant supply of lumber. The city grew steadily and incorporated in 1869. Seattle's location made it an ideal shipping port, and the city's economy diversified to include shipbuilding and other industries.\n",
      "\n",
      "**The Klondike Gold Rush:**\n",
      "Seattle's growth was significantly accelerated by the Klondike Gold Rush starting in 1897. Seattle became a primary transportation and supply point for prospectors heading to the Yukon, which brought wealth and people to the city, stimulating a boom in construction and commerce.\n",
      "\n",
      "**20th Century:**\n",
      "Throughout the 20th century, Seattle continued to expand. Key industries included maritime trade, shipbuilding, and later aerospace with the founding of Boeing in 1916. The city also developed a strong cultural scene, with institutions like the Seattle Symphony (founded in 1903) and the Seattle Art Museum (opened in 1933) emerging.\n",
      "\n",
      "**World War II and Post-War Era:**\n",
      "During World War II, Seattle's shipyards and Boeing's aircraft production were crucial to the war effort. After the war, the city continued to grow, with suburban expansion and infrastructure improvements. The University of Washington also became a prominent research institution during this time.\n",
      "\n",
      "**1962 World's Fair:**\n",
      "The 1962 Century 21 Exposition, or World's Fair, was a significant event for Seattle, symbolizing its status as a forward-looking, modern city. The fair left a lasting legacy, including the iconic Space Needle and the Seattle Center.\n",
      "\n",
      "**Civil Rights Movement and Political Activism:**\n",
      "Like many American cities, Seattle saw significant civil rights activism in the 1960s. It was also a hub for protest during the Vietnam War and later became known for its environmental activism and progressive politics.\n",
      "\n",
      "**Tech Boom and Urban Revival:**\n",
      "Starting in the late 20th century and continuing into the 21st, Seattle experienced a tech boom with the rise of companies like Microsoft (founded in 1975) and Amazon (founded in 1994). The influx of technology companies and workers has led to significant economic growth and urban redevelopment, although it has also brought challenges like increased housing costs and traffic congestion.\n",
      "\n",
      "**Modern Seattle:**\n",
      "Today, Seattle is known for its vibrant music scene, coffee culture (being the birthplace of Starbucks), environmental leadership, diverse population, and dynamic economy. It continues to be a hub for innovation in technology, biotech, and global health.\n",
      "\n",
      "The history of Seattle is one of rapid change and adaptation, influenced by its geography, natural resources, and the enterprising spirit of its residents. (comparison.py:make_call:143)\n",
      "2024-05-02 09:39:07,410 - micro - MainProcess - INFO     Time taken for chat: 72 seconds or 72021 milliseconds. (comparison.py:make_call:144)\n"
     ]
    },
    {
     "name": "stdout",
     "output_type": "stream",
     "text": [
      "Call sent at (Local time): 2024-05-02 09:39:12.428440, (GMT): 2024-05-02 14:39:12.428440+00:00, Model: gpt4-1106, Max Tokens: 1000\n"
     ]
    },
    {
     "name": "stderr",
     "output_type": "stream",
     "text": [
      "2024-05-02 09:40:10,644 - micro - MainProcess - INFO     Seattle, the largest city in the Pacific Northwest region of the United States, has a rich and varied history. Here is an overview of Seattle's historical development:\n",
      "\n",
      "### Native Inhabitants Before European Settlers\n",
      "The area around Seattle was inhabited by Native American tribes for at least 4,000 years before the first permanent European settlers. The Duwamish, Suquamish, Snoqualmie, Snohomish, Muckleshoot, and other local tribes lived off the land, fishing the abundant waters and harvesting foods from the lush forests.\n",
      "\n",
      "### European Exploration\n",
      "European exploration of the Puget Sound region began in the late 18th century. British explorer George Vancouver is credited with the European discovery of the area in 1792. The United States acquired the land as part of the Oregon Territory in 1846 through a treaty with Britain.\n",
      "\n",
      "### Founding of Seattle\n",
      "Seattle was founded on November 13, 1851, by a group of settlers led by Arthur A. Denny, known as the Denny Party. They originally settled at Alki Point in what is now West Seattle. The settlement was initially named \"New York Alki\" (\"Alki\" meaning \"by and by\" in the Chinook Jargon), but the name was soon changed to \"Seattle.\" It was named after Chief Si'ahl (anglicized as \"Seattle\") of the Duwamish and Suquamish tribes.\n",
      "\n",
      "### Early Growth\n",
      "Seattle's early economy was based on the timber industry, shipping, and trade. The city became the commercial and shipbuilding center for the region. However, Seattle's growth was not without setbacks. In 1889, a great fire destroyed much of the central business district. The city quickly rebuilt with sturdier brick and stone buildings, many of which still stand today.\n",
      "\n",
      "### Klondike Gold Rush\n",
      "The Klondike Gold Rush of 1897-1898 transformed Seattle into a major transportation and supply hub for miners heading to the Yukon Territory in northwestern Canada. The city's population boomed, and its economy diversified and expanded.\n",
      "\n",
      "### 20th Century Development\n",
      "Throughout the 20th century, Seattle continued to grow. It hosted a successful World's Fair in 1962, known as the Century 21 Exposition, which left the city with landmarks like the Space Needle and the Seattle Center. The city also became a center for technology and aerospace with companies like Boeing, Microsoft, and Amazon establishing significant presences in the region.\n",
      "\n",
      "### Modern Seattle\n",
      "Today, Seattle is known for its vibrant music scene, which produced the grunge movement of the 1990s, its thriving tech industry, its coffee culture with Starbucks originating there, and its commitment to environmental sustainability. The city continues to face challenges such as traffic congestion, housing affordability, and the complexities of urban growth, but it remains a dynamic and influential city in the United States.\n",
      "\n",
      "This is a brief overview, and Seattle's history includes many more fascinating details and events that have shaped the city into what it is today. (comparison.py:make_call:143)\n",
      "2024-05-02 09:40:10,649 - micro - MainProcess - INFO     Time taken for chat: 58 seconds or 58216 milliseconds. (comparison.py:make_call:144)\n"
     ]
    },
    {
     "name": "stdout",
     "output_type": "stream",
     "text": [
      "Call sent at (Local time): 2024-05-02 09:40:15.658438, (GMT): 2024-05-02 14:40:15.658438+00:00, Model: gpt4-1106, Max Tokens: 1000\n"
     ]
    },
    {
     "name": "stderr",
     "output_type": "stream",
     "text": [
      "2024-05-02 09:41:43,366 - micro - MainProcess - INFO     Seattle, located in the Pacific Northwest region of the United States, has a rich and varied history that reflects its geographical position and cultural mix. Here's a brief overview of Seattle's history:\n",
      "\n",
      "**Pre-European Settlement**\n",
      "Before European settlers arrived, the Seattle area was inhabited by Native American tribes such as the Duwamish, Suquamish, Snoqualmie, and others. These peoples had established complex societies with rich traditions and cultures. They fished the local waters, hunted, and gathered food, and had trade networks across the region.\n",
      "\n",
      "**European Exploration and Settlement**\n",
      "The first Europeans to explore the Puget Sound were Spanish explorers in the late 18th century. However, it was not until the mid-19th century that European settlers began to establish permanent settlements. In 1851, a group known as the Denny Party arrived at Alki Point and later moved to the eastern shore of Elliott Bay, founding what would become the city of Seattle.\n",
      "\n",
      "**Naming and Incorporation**\n",
      "The city was named after Chief Si'ahl (anglicized as \"Seattle\") of the local Duwamish and Suquamish tribes. Seattle was officially incorporated on December 2, 1869.\n",
      "\n",
      "**Economic Growth and Development**\n",
      "Seattle's early economy was driven by the timber industry, capitalizing on the vast forests of the Pacific Northwest. The city's location also made it a natural transportation hub, with shipping and later railroads playing a significant role in its development.\n",
      "\n",
      "**The Klondike Gold Rush**\n",
      "In 1897, Seattle became the main gateway to the Klondike Gold Rush in Alaska. This event transformed the city's economy and population, as thousands of prospectors poured through, buying supplies and equipment, which bolstered local businesses.\n",
      "\n",
      "**20th Century Expansion**\n",
      "Throughout the 20th century, Seattle continued to grow. The Alaska-Yukon-Pacific Exposition in 1909 put Seattle on the world map. The city also benefited from military spending during both World Wars, with shipbuilding and later aerospace becoming significant industries, thanks to companies like Boeing.\n",
      "\n",
      "**Post-War Boom and Challenges**\n",
      "After World War II, Seattle experienced suburbanization and the challenges of urban renewal. The city hosted the Century 21 Exposition in 1962, a World's Fair for which the iconic Space Needle was built. However, the city faced economic downturns, notably during the \"Boeing Bust\" in the early 1970s when thousands of jobs were lost as the aerospace industry suffered setbacks.\n",
      "\n",
      "**Tech Boom and Modern Era**\n",
      "In the late 20th and early 21st centuries, Seattle became a center for technology and innovation. Microsoft, founded in 1975, set up its headquarters in the nearby suburb of Redmond. Amazon was founded in Seattle in 1994, and the city's economy diversified with biotech firms, healthcare, and other industries.\n",
      "\n",
      "**Culture and Society**\n",
      "Seattle is known for its vibrant music scene, which has produced bands like Nirvana, Pearl Jam, and Jimi Hendrix. The city is also home to a thriving arts scene, diverse communities, and a strong commitment to environmental sustainability.\n",
      "\n",
      "**Recent Developments**\n",
      "In recent years, Seattle has seen significant urban development and population growth, which has led to challenges such as rising housing costs and traffic congestion. Nonetheless, it remains a hub of industry, culture, and education, with a reputation for progressiveness and innovation.\n",
      "\n",
      "Seattle's history is a tapestry of indigenous heritage, pioneer settlement, economic booms and busts, and a continual reshaping of its cultural and economic identity. The city's ability to adapt and reinvent itself is a defining characteristic of its history. (comparison.py:make_call:143)\n",
      "2024-05-02 09:41:43,371 - micro - MainProcess - INFO     Time taken for chat: 88 seconds or 87708 milliseconds. (comparison.py:make_call:144)\n"
     ]
    },
    {
     "name": "stdout",
     "output_type": "stream",
     "text": [
      "Call sent at (Local time): 2024-05-02 09:41:48.380009, (GMT): 2024-05-02 14:41:48.380009+00:00, Model: gpt4-1106, Max Tokens: 1000\n"
     ]
    },
    {
     "name": "stderr",
     "output_type": "stream",
     "text": [
      "2024-05-02 09:43:18,483 - micro - MainProcess - INFO     Seattle, the largest city in the Pacific Northwest region of the United States, has a rich and varied history. Here is an overview of the major events and periods in the history of Seattle:\n",
      "\n",
      "**Indigenous History:**\n",
      "Before European settlers arrived, the area where Seattle now stands was inhabited by Native American tribes for at least 4,000 years. The Duwamish Tribe and others lived in this region and had established a network of settlements and a rich cultural heritage.\n",
      "\n",
      "**European Exploration:**\n",
      "The first Europeans to see the area were members of the Spanish expedition of Manuel Quimper in 1790, followed by the British explorer George Vancouver in 1792. Neither group of explorers settled the area.\n",
      "\n",
      "**Settlement and Naming:**\n",
      "The first permanent European settlers arrived in the 1850s. On November 13, 1851, a group known as the Denny Party arrived at Alki Point in what is now West Seattle. The settlement was moved to the eastern shore of Elliott Bay in 1852 and was named \"Seattle\" in honor of Chief Si'ahl (or Sealth), a leader of the local Duwamish and Suquamish tribes.\n",
      "\n",
      "**Town Development:**\n",
      "Seattle was officially incorporated on December 2, 1869. The city grew steadily as a trade center and port. The discovery of coal nearby and the establishment of lumber mills contributed to its early economy.\n",
      "\n",
      "**Great Seattle Fire:**\n",
      "On June 6, 1889, a fire destroyed the central business district of Seattle. The city quickly rebuilt, this time with more durable materials like brick and stone, and established a professional fire department to prevent future disasters.\n",
      "\n",
      "**Gold Rush and Growth:**\n",
      "Seattle became a major transportation and supply center for the Klondike Gold Rush in the late 1890s. This economic boom led to rapid population growth and the development of infrastructure such as roads, railroads, and public services.\n",
      "\n",
      "**20th Century Expansion:**\n",
      "In the 20th century, Seattle continued to grow. It hosted the Alaska-Yukon-Pacific Exposition in 1909, which showcased the city on a world stage. The shipbuilding and timber industries thrived, especially during World War I. Boeing, founded in Seattle in 1916, later became a cornerstone of the city's economy with the rise of commercial aviation and aerospace.\n",
      "\n",
      "**World War II and Postwar Boom:**\n",
      "During World War II, Seattle's industries pivoted to support the war effort. After the war, the city experienced another population surge. Urban renewal projects reshaped the cityscape, and the University of Washington expanded its influence as a research institution.\n",
      "\n",
      "**Civil Rights Movement:**\n",
      "Like many American cities, Seattle was a site of civil rights activism in the 1960s. The city faced challenges related to racial inequality, and activists worked toward desegregation and equal rights.\n",
      "\n",
      "**Modern Seattle:**\n",
      "The latter part of the 20th century and into the 21st saw Seattle become a hub for technology and innovation. It is the birthplace of companies such as Microsoft and Amazon, which have had a significant impact on the city's economy and culture.\n",
      "\n",
      "**21st Century Challenges:**\n",
      "Seattle faces challenges such as managing growth, housing affordability, and maintaining its character amidst rapid development. It also has become a leader in addressing climate change and promoting sustainable practices.\n",
      "\n",
      "**Cultural Impact:**\n",
      "Seattle has had a significant cultural impact, particularly in music, with the grunge movement of the 1990s spearheaded by bands like Nirvana, Pearl Jam, and Soundgarden. The city is also known for its vibrant arts scene, coffee culture, and as a leader in the craft beer movement.\n",
      "\n",
      "Seattle's history is one of resilience and reinvention, with its geography and natural resources shaping its development from a small frontier town to a modern, cosmopolitan city with global influence. (comparison.py:make_call:143)\n",
      "2024-05-02 09:43:18,490 - micro - MainProcess - INFO     Time taken for chat: 90 seconds or 90104 milliseconds. (comparison.py:make_call:144)\n"
     ]
    },
    {
     "name": "stdout",
     "output_type": "stream",
     "text": [
      "Call sent at (Local time): 2024-05-02 09:43:23.498171, (GMT): 2024-05-02 14:43:23.498171+00:00, Model: gpt4-1106, Max Tokens: 1000\n"
     ]
    },
    {
     "name": "stderr",
     "output_type": "stream",
     "text": [
      "2024-05-02 09:44:35,009 - micro - MainProcess - INFO     Seattle, the largest city in Washington state and the Pacific Northwest region of the United States, has a rich and diverse history that dates back thousands of years.\n",
      "\n",
      "**Pre-Colonial and Native History:**\n",
      "Before European settlement, the area that is now Seattle was inhabited by Native American tribes for at least 4,000 years. The Duwamish tribe and other Coast Salish peoples lived in the region, subsisting on fishing, hunting, and gathering. They established complex social structures and traded with other tribes in the area.\n",
      "\n",
      "**European Exploration and Settlement:**\n",
      "The first European to visit the Seattle area was Spanish explorer Manuel Quimper, who arrived in 1790. However, it was not until the mid-19th century that European settlers began to establish permanent settlements. The Denny Party, often considered the city's first European-American settlers, arrived in 1851 and initially settled at Alki Point in what is now West Seattle. They later moved to the eastern shore of Elliott Bay, founding the town of Seattle in 1852.\n",
      "\n",
      "**Naming and Growth:**\n",
      "Seattle was named after Chief Si'ahl (or Sealth) of the Duwamish and Suquamish tribes. The city's location on deep water harbors, along with the surrounding forests, provided natural resources that helped the city grow. The logging industry became the first major economic driver.\n",
      "\n",
      "**The Klondike Gold Rush:**\n",
      "The Klondike Gold Rush of the late 1890s transformed Seattle into a major transportation and supply center, as it was the last American city where prospectors could stock up on supplies before heading north to the gold fields in Canada's Yukon Territory.\n",
      "\n",
      "**Early 20th Century and World War II:**\n",
      "During the early 20th century, Seattle continued to grow as a trade center and port city. The city also became known for its shipbuilding industry during World War I. The Great Depression hit Seattle hard, but the city rebounded during World War II as it became a hub for war production, particularly aircraft with Boeing leading the way.\n",
      "\n",
      "**Post-War Development and the Boeing Bust:**\n",
      "After World War II, Seattle continued to expand, experiencing suburban growth and urban renewal projects. The 1962 World's Fair, which left the city with landmarks like the Space Needle and the monorail, symbolized the city's modern ambitions. However, the city faced economic difficulties during the \"Boeing Bust\" of the early 1970s when the aerospace giant laid off tens of thousands of workers.\n",
      "\n",
      "**Tech Boom and Modern Era:**\n",
      "In the late 20th century, Seattle became a center for technology and innovation. Microsoft, founded in 1975, set up its headquarters in nearby Redmond, and many other tech companies followed suit, transforming the economic landscape. The city also became known for its thriving music scene, particularly grunge music in the 1990s, with bands like Nirvana and Pearl Jam.\n",
      "\n",
      "**21st Century Challenges and Growth:**\n",
      "The 21st century has seen Seattle continue to expand economically, driven by the tech industry, with companies like Amazon and Starbucks having a significant presence. The city has faced challenges such as rapid population growth, housing affordability, and traffic congestion. Seattle remains a center of culture, education, and political activism with a notable commitment to environmental sustainability.\n",
      "\n",
      "Seattle's history is one of transformation and resilience, from a Native American dwelling place to a gold rush boomtown and into a modern metropolis known for its innovation and natural beauty. (comparison.py:make_call:143)\n",
      "2024-05-02 09:44:35,012 - micro - MainProcess - INFO     Time taken for chat: 72 seconds or 71511 milliseconds. (comparison.py:make_call:144)\n"
     ]
    }
   ],
   "source": [
    "# Define the deployment names\n",
    "deployment_names = ['turbo-gpt4', 'gpt4-1106']\n",
    "\n",
    "# Define max_tokens to test\n",
    "max_tokens_list = [100, 200, 400, 800, 1000]\n",
    "\n",
    "# Create an AzureOpenAINonStreamingBenchmark and run the tests\n",
    "client_non_streaming = AzureOpenAINonStreamingBenchmark(api_key, azure_endpoint)\n",
    "await client_non_streaming.run_tests(deployment_names, max_tokens_list, iterations=5)"
   ]
  },
  {
   "cell_type": "code",
   "execution_count": 10,
   "metadata": {},
   "outputs": [
    {
     "name": "stdout",
     "output_type": "stream",
     "text": [
      "+-----------------+--------------------+--------------------+--------------------+------------+------------+-------------+-------------+\n",
      "| Model_maxtokens | Max Time (Seconds) | Min Time (Seconds) | Avg Time (Seconds) | max_tokens | Iterations | Error Count | Error Codes |\n",
      "+-----------------+--------------------+--------------------+--------------------+------------+------------+-------------+-------------+\n",
      "| turbo-gpt4_100  | 3.4864397048950195 |  2.74737811088562  | 2.968665933609009  |   100.0    |     5      |      0      |             |\n",
      "| turbo-gpt4_200  | 5.611382961273193  |  5.02306866645813  | 5.158347034454346  |   200.0    |     5      |      0      |             |\n",
      "| turbo-gpt4_400  | 9.944215297698975  | 9.593158960342407  | 9.713895177841186  |   400.0    |     5      |      0      |             |\n",
      "| turbo-gpt4_800  | 14.968940496444702 | 12.80190896987915  | 14.03956322669983  |   800.0    |     5      |      0      |             |\n",
      "| turbo-gpt4_1000 | 19.005332708358765 | 13.910292625427246 | 16.074462938308717 |   1000.0   |     5      |      0      |             |\n",
      "|  gpt4-1106_100  | 21.714995861053467 | 8.894001722335815  | 13.430591869354249 |   100.0    |     5      |      0      |             |\n",
      "|  gpt4-1106_200  | 37.838865756988525 | 16.183706045150757 | 24.863799953460692 |   200.0    |     5      |      0      |             |\n",
      "|  gpt4-1106_400  | 152.59549736976624 | 42.18789100646973  | 70.88548560142517  |   400.0    |     5      |      0      |             |\n",
      "|  gpt4-1106_800  | 100.1847493648529  |  55.929194688797   | 84.39707245826722  |   800.0    |     5      |      0      |             |\n",
      "| gpt4-1106_1000  | 90.10358834266663  | 58.21609115600586  | 75.91199316978455  |   1000.0   |     5      |      0      |             |\n",
      "+-----------------+--------------------+--------------------+--------------------+------------+------------+-------------+-------------+\n"
     ]
    }
   ],
   "source": [
    "from datetime import datetime\n",
    "now = datetime.now()\n",
    "timestamp = now.strftime(\"%Y%m%d_%H%M%S\")\n",
    "filename = f\"tests/logs/{region}/results_{timestamp}.json\"\n",
    "\n",
    "client_non_streaming.save_results(filename, show_table=True)"
   ]
  }
 ],
 "metadata": {
  "kernelspec": {
   "display_name": "ptu-benchmarking",
   "language": "python",
   "name": "python3"
  },
  "language_info": {
   "codemirror_mode": {
    "name": "ipython",
    "version": 3
   },
   "file_extension": ".py",
   "mimetype": "text/x-python",
   "name": "python",
   "nbconvert_exporter": "python",
   "pygments_lexer": "ipython3",
   "version": "3.9.18"
  }
 },
 "nbformat": 4,
 "nbformat_minor": 2
}
