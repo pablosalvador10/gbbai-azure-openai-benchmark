{
 "cells": [
  {
   "cell_type": "code",
   "execution_count": 1,
   "metadata": {},
   "outputs": [
    {
     "name": "stdout",
     "output_type": "stream",
     "text": [
      "Directory changed to C:\\Users\\pablosal\\Desktop\\gbbai-azure-openai-benchmark\n"
     ]
    }
   ],
   "source": [
    "import os\n",
    "\n",
    "# Define the target directory (change yours)\n",
    "target_directory = r\"C:\\Users\\pablosal\\Desktop\\gbbai-azure-openai-benchmark\"\n",
    "\n",
    "# Check if the directory exists\n",
    "if os.path.exists(target_directory):\n",
    "    # Change the current working directory\n",
    "    os.chdir(target_directory)\n",
    "    print(f\"Directory changed to {os.getcwd()}\")\n",
    "else:\n",
    "    print(f\"Directory {target_directory} does not exist.\")"
   ]
  },
  {
   "cell_type": "code",
   "execution_count": 2,
   "metadata": {},
   "outputs": [],
   "source": [
    "from benchmark.aoaihelpers.comparison import AzureOpenAIStreamingBenchmark,AzureOpenAINonStreamingBenchmark\n",
    "import asyncio\n",
    "\n",
    "from dotenv import load_dotenv\n",
    "\n",
    "# Load environment variables from .env file\n",
    "load_dotenv()\n",
    "\n",
    "# Now you can access the environment variables using os.getenv\n",
    "api_key = os.getenv(\"OPENAI_API_KEY_EAST2\")\n",
    "azure_endpoint = os.getenv(\"AZURE_OPENAI_ENDPOINT_EAST2\")"
   ]
  },
  {
   "cell_type": "markdown",
   "metadata": {},
   "source": [
    "## Latency with Streaming Option\n",
    "\n",
    "Let's  the streaming option provided by the Azure OpenAI Chat API. Streaming allows us to process data in chunks as it becomes available, which can be beneficial in certain situations.\n",
    "\n",
    "### Pros of Streaming:\n",
    "\n",
    "- **Memory Efficiency**: Streaming processes large files or data in smaller chunks, reducing memory requirement.\n",
    "- **Real-Time Processing**: It enables real-time processing and progress monitoring, which can be useful for live data feeds or providing users with real-time updates.\n",
    "\n",
    "### Cons of Streaming:\n",
    "\n",
    "- **Increased Code Complexity**: Streaming can increase code complexity as you need to handle data in chunks and manage the state between chunks.\n",
    "- **Potential Slowdown**: It might slow down processing as the code waits for data to become available.\n",
    "- **Inconsistency in Latency**: Inconsistency in latency can be a challenge, especially if the first response takes a long time due to a complex prompt.\n",
    "\n",
    "### Test with Sample\n",
    "\n",
    "In the Azure OpenAI Chat API, the `stream` parameter in the `client.chat.completions.create()` method determines whether to stream back partial progress. If set to `True`, tokens are sent as data-only server-sent events as they become available, with the stream terminated by a `data: [DONE]` message.\n",
    "\n",
    "Here is a breakdown of the streaming process:\n",
    "\n",
    "1. A chat completion call is made with `stream=True`.\n",
    "2. The async iterable response starts receiving chunks of data from the server.\n",
    "3. For each chunk received, the code enters the `async for` loop.\n",
    "4. The chunk of data is converted to JSON and checked if it contains any choices (responses from the model).\n",
    "5. If there are responses, the content of the response is printed to the console.\n",
    "6. This process repeats until all chunks of data have been received and processed.\n",
    "\n",
    "This way, the responses from the model are printed as soon as they are received, instead of waiting for the entire output to be ready. This is the concept of streaming in the context of this code."
   ]
  },
  {
   "cell_type": "code",
   "execution_count": 4,
   "metadata": {},
   "outputs": [
    {
     "ename": "NameError",
     "evalue": "name 'AzureOpenAIStreamingBenchmark' is not defined",
     "output_type": "error",
     "traceback": [
      "\u001b[1;31m---------------------------------------------------------------------------\u001b[0m",
      "\u001b[1;31mNameError\u001b[0m                                 Traceback (most recent call last)",
      "Cell \u001b[1;32mIn[4], line 8\u001b[0m\n\u001b[0;32m      5\u001b[0m max_tokens \u001b[38;5;241m=\u001b[39m \u001b[38;5;241m800\u001b[39m\n\u001b[0;32m      7\u001b[0m \u001b[38;5;66;03m# Create an AzureOpenAIClient and run the tests\u001b[39;00m\n\u001b[1;32m----> 8\u001b[0m client_streaming \u001b[38;5;241m=\u001b[39m \u001b[43mAzureOpenAIStreamingBenchmark\u001b[49m(api_key, azure_endpoint, verbose\u001b[38;5;241m=\u001b[39m\u001b[38;5;28;01mTrue\u001b[39;00m)\n\u001b[0;32m      9\u001b[0m \u001b[38;5;28;01mawait\u001b[39;00m client_streaming\u001b[38;5;241m.\u001b[39mrun_tests(deployment_names, max_tokens)\n",
      "\u001b[1;31mNameError\u001b[0m: name 'AzureOpenAIStreamingBenchmark' is not defined"
     ]
    }
   ],
   "source": [
    "# Define the deployment names\n",
    "deployment_names = ['turbo-gpt4', 'gpt4-1106']\n",
    "\n",
    "# Define max_tokens\n",
    "max_tokens = 800\n",
    "\n",
    "# Create an AzureOpenAIClient and run the tests\n",
    "client_streaming = AzureOpenAIStreamingBenchmark(api_key, azure_endpoint, verbose=True)\n",
    "await client_streaming.run_tests(deployment_names, max_tokens)"
   ]
  },
  {
   "cell_type": "markdown",
   "metadata": {},
   "source": [
    "## Latency with Non-Streaming Option\n",
    "\n",
    "In this section, we will explore the non-streaming option provided by the Azure OpenAI Chat API. In a non-streaming option, the model generates its entire output in one go and then sends it back to the user. This is in contrast to the streaming option, where the model sends back portions of its output as soon as they are generated, even while the rest of the output is still being generated. The non-streaming option is the default in the Azure OpenAI Python SDK.\n",
    "\n",
    "The code below tests the latency of various models of Azure OpenAI under different conditions. Here are some technical details:\n",
    "\n",
    "- The script uses environment variables to securely access the API key and endpoint needed for Azure OpenAI.\n",
    "- It initializes the AzureOpenAI client with the necessary API key, API version, and endpoint.\n",
    "- It sets up a list of model deployment names and maximum token sizes to be tested. The models represent different versions of the AI and token sizes define the maximum length of the generated output.\n",
    "- Two time intervals are defined: one for tests with the same model but different token sizes, and another for tests with different models. This is done to prevent rapid, successive calls which could lead to skewed results due to potential caching or rate limiting.\n",
    "- It defines an asynchronous function `make_call()` to send requests to the OpenAI service and measure the response time. This function utilizes the `chat.completions.create()` method of the OpenAI client to generate a message from the model.\n",
    "- The function prints the time of sending the request, the model's response, and the time taken for the model to generate the response.\n",
    "- Finally, it iterates over each model and token size, making calls to the OpenAI service and measuring the response time. The script pauses between tests as per the defined intervals.\n",
    "\n",
    "This non-streaming test allows for a comprehensive latency analysis of different AI models under varying output lengths, aiding in the selection of the most suitable model for specific use cases."
   ]
  },
  {
   "cell_type": "code",
   "execution_count": 7,
   "metadata": {},
   "outputs": [
    {
     "name": "stdout",
     "output_type": "stream",
     "text": [
      "Call sent at (Local time): 2024-05-02 01:49:00.516759, (GMT): 2024-05-02 06:49:00.516759+00:00, Model: turbo-gpt4, Max Tokens: 100\n"
     ]
    },
    {
     "name": "stderr",
     "output_type": "stream",
     "text": [
      "2024-05-02 01:49:03,380 - micro - MainProcess - INFO     Seattle, located in the Pacific Northwest region of the United States, has a rich and diverse history that dates back thousands of years. Here are some key points in the historical timeline of Seattle:\n",
      "\n",
      "### Pre-European Settlement\n",
      "- **Indigenous History**: The area now known as Seattle has been inhabited for at least 4,000 years. The Duwamish Tribe and several other Coast Salish peoples were the original inhabitants, living primarily off the land and sea.\n",
      "\n",
      "### European Exploration and Settlement\n",
      "- (comparison.py:make_call:143)\n",
      "2024-05-02 01:49:03,382 - micro - MainProcess - INFO     Time taken for chat: 3 seconds or 2864 milliseconds. (comparison.py:make_call:144)\n"
     ]
    },
    {
     "name": "stdout",
     "output_type": "stream",
     "text": [
      "Call sent at (Local time): 2024-05-02 01:49:08.391388, (GMT): 2024-05-02 06:49:08.391388+00:00, Model: turbo-gpt4, Max Tokens: 100\n"
     ]
    },
    {
     "name": "stderr",
     "output_type": "stream",
     "text": [
      "2024-05-02 01:49:11,075 - micro - MainProcess - INFO     Seattle, located in the state of Washington, has a rich and varied history that reflects the cultural diversity and dynamic growth of this Pacific Northwest city.\n",
      "\n",
      "### Pre-European Settlement\n",
      "Before European settlers arrived, the area was inhabited by Native American tribes, primarily the Duwamish and Suquamish peoples. The lush landscape provided ample resources, such as fish, game, and edible plants, which supported a rich culture centered on art, spiritual practices, and trade.\n",
      "\n",
      "### European Exploration and Settlement\n",
      "In  (comparison.py:make_call:143)\n",
      "2024-05-02 01:49:11,076 - micro - MainProcess - INFO     Time taken for chat: 3 seconds or 2684 milliseconds. (comparison.py:make_call:144)\n"
     ]
    },
    {
     "name": "stdout",
     "output_type": "stream",
     "text": [
      "Call sent at (Local time): 2024-05-02 01:49:16.091506, (GMT): 2024-05-02 06:49:16.091506+00:00, Model: turbo-gpt4, Max Tokens: 100\n"
     ]
    },
    {
     "name": "stderr",
     "output_type": "stream",
     "text": [
      "2024-05-02 01:49:18,817 - micro - MainProcess - INFO     Seattle, located in the state of Washington in the United States, has a rich and diverse history that spans thousands of years.\n",
      "\n",
      "**Pre-European History:**\n",
      "The area now known as Seattle has been inhabited for at least 4,000 years by Native Americans. The primary tribes in the region were the Duwamish and Suquamish peoples. These tribes lived around the present-day Seattle area, particularly on the shores of Elliott Bay, and relied on fishing, hunting, and gathering for sustenance (comparison.py:make_call:143)\n",
      "2024-05-02 01:49:18,819 - micro - MainProcess - INFO     Time taken for chat: 3 seconds or 2726 milliseconds. (comparison.py:make_call:144)\n"
     ]
    },
    {
     "name": "stdout",
     "output_type": "stream",
     "text": [
      "Call sent at (Local time): 2024-05-02 01:49:23.833952, (GMT): 2024-05-02 06:49:23.833952+00:00, Model: turbo-gpt4, Max Tokens: 100\n"
     ]
    },
    {
     "name": "stderr",
     "output_type": "stream",
     "text": [
      "2024-05-02 01:49:27,043 - micro - MainProcess - INFO     Seattle, Washington, has a rich history that dates back thousands of years. Originally inhabited by Native American tribes such as the Duwamish and Suquamish, the area was rich in resources and cultures long before European explorers arrived.\n",
      "\n",
      "### Pre-European Settlement\n",
      "The area known as Seattle has been inhabited by Native Americans for at least 4,000 years. The Duwamish, Suquamish, Snoqualmie, Snohomish, Muckleshoot, and other local tribes used (comparison.py:make_call:143)\n",
      "2024-05-02 01:49:27,045 - micro - MainProcess - INFO     Time taken for chat: 3 seconds or 3210 milliseconds. (comparison.py:make_call:144)\n"
     ]
    },
    {
     "name": "stdout",
     "output_type": "stream",
     "text": [
      "Call sent at (Local time): 2024-05-02 01:49:32.050727, (GMT): 2024-05-02 06:49:32.050727+00:00, Model: turbo-gpt4, Max Tokens: 100\n"
     ]
    },
    {
     "name": "stderr",
     "output_type": "stream",
     "text": [
      "2024-05-02 01:49:34,783 - micro - MainProcess - INFO     Seattle, located in the Pacific Northwest region of the United States, has a rich and diverse history that reflects its evolution from a Native American dwelling to a modern metropolis.\n",
      "\n",
      "### Native American Beginnings\n",
      "Before European settlers arrived, the Seattle area was inhabited by Native Americans for at least 4,000 years. The Duwamish Tribe and other tribes in the region lived off the land, fishing in the abundant waters and gathering in the lush forests.\n",
      "\n",
      "### European Exploration\n",
      "The first European to visit (comparison.py:make_call:143)\n",
      "2024-05-02 01:49:34,784 - micro - MainProcess - INFO     Time taken for chat: 3 seconds or 2733 milliseconds. (comparison.py:make_call:144)\n"
     ]
    },
    {
     "name": "stdout",
     "output_type": "stream",
     "text": [
      "Call sent at (Local time): 2024-05-02 01:49:39.786913, (GMT): 2024-05-02 06:49:39.786913+00:00, Model: turbo-gpt4, Max Tokens: 200\n"
     ]
    },
    {
     "name": "stderr",
     "output_type": "stream",
     "text": [
      "2024-05-02 01:49:44,999 - micro - MainProcess - INFO     Seattle, located in the Pacific Northwest region of the United States, has a rich and diverse history that reflects its growth from a small Native American dwelling to a major global city.\n",
      "\n",
      "**Native American Beginnings:**\n",
      "Before European settlement, the area was inhabited by Native American tribes such as the Duwamish and Suquamish. The lush landscape provided abundant resources, allowing tribes to thrive on fishing, hunting, and gathering.\n",
      "\n",
      "**European Exploration:**\n",
      "The first European to visit the Seattle area was George Vancouver, in 1792. However, the area wasn't settled by Europeans until much later. In the mid-19th century, Arthur A. Denny and a group of settlers known as the Denny Party arrived from Illinois and established the first permanent European settlement in 1851, originally named \"New York-Alki.\"\n",
      "\n",
      "**Naming Seattle:**\n",
      "The city was later renamed \"Seattle\" after Chief Si'ahl (also known as Chief Seattle), a leader of the local Duwam (comparison.py:make_call:143)\n",
      "2024-05-02 01:49:44,999 - micro - MainProcess - INFO     Time taken for chat: 5 seconds or 5211 milliseconds. (comparison.py:make_call:144)\n"
     ]
    },
    {
     "name": "stdout",
     "output_type": "stream",
     "text": [
      "Call sent at (Local time): 2024-05-02 01:49:50.012528, (GMT): 2024-05-02 06:49:50.012528+00:00, Model: turbo-gpt4, Max Tokens: 200\n"
     ]
    },
    {
     "name": "stderr",
     "output_type": "stream",
     "text": [
      "2024-05-02 01:49:55,038 - micro - MainProcess - INFO     Seattle, the largest city in Washington state, has a rich and varied history. Here's an overview:\n",
      "\n",
      "### Pre-European Settlement\n",
      "Before European settlers, the area was inhabited by Native American tribes such as the Duwamish, Suquamish, Snoqualmie, and Muckleshoot. These tribes had complex social structures and were skilled fishers, hunters, and gatherers.\n",
      "\n",
      "### European Exploration\n",
      "The first European to visit the Seattle area was George Vancouver in 1792. However, it wasn't until the mid-19th century that European settlers began to establish permanent settlements.\n",
      "\n",
      "### Founding\n",
      "Seattle was officially founded on November 13, 1851, by Arthur A. Denny and his group of travelers known as the Denny Party. They originally settled at Alki Point but soon moved to the eastern shore of Elliott Bay, which is now the central part of Seattle.\n",
      "\n",
      "### Growth and Development\n",
      "Seattle grew rapidly as a result of the logging industry and later became a commercial (comparison.py:make_call:143)\n",
      "2024-05-02 01:49:55,040 - micro - MainProcess - INFO     Time taken for chat: 5 seconds or 5026 milliseconds. (comparison.py:make_call:144)\n"
     ]
    },
    {
     "name": "stdout",
     "output_type": "stream",
     "text": [
      "Call sent at (Local time): 2024-05-02 01:50:00.048536, (GMT): 2024-05-02 06:50:00.048536+00:00, Model: turbo-gpt4, Max Tokens: 200\n"
     ]
    },
    {
     "name": "stderr",
     "output_type": "stream",
     "text": [
      "2024-05-02 01:50:05,884 - micro - MainProcess - INFO     Seattle, located in the state of Washington in the United States, has a rich and diverse history. Situated on the coast of the Pacific Northwest, Seattle has been inhabited for at least 4,000 years, originally by the Duwamish and Suquamish peoples. Here is an overview of some key periods in Seattle's history:\n",
      "\n",
      "### Indigenous History\n",
      "The area now known as Seattle has been inhabited for thousands of years by Native American tribes, primarily the Duwamish and Suquamish. These communities lived off the land and the sea, fishing, hunting, and gathering.\n",
      "\n",
      "### European Exploration and Settlement\n",
      "The first European to visit the Seattle area was George Vancouver, who arrived in 1792. However, it wasn't until the mid-19th century that European settlers, led by Arthur A. Denny and his group of travelers known as the Denny Party, established a permanent settlement. They arrived via the schooner Exact in 1851, setting up what initially (comparison.py:make_call:143)\n",
      "2024-05-02 01:50:05,885 - micro - MainProcess - INFO     Time taken for chat: 6 seconds or 5836 milliseconds. (comparison.py:make_call:144)\n"
     ]
    },
    {
     "name": "stdout",
     "output_type": "stream",
     "text": [
      "Call sent at (Local time): 2024-05-02 01:50:10.897898, (GMT): 2024-05-02 06:50:10.897898+00:00, Model: turbo-gpt4, Max Tokens: 200\n"
     ]
    },
    {
     "name": "stderr",
     "output_type": "stream",
     "text": [
      "2024-05-02 01:50:17,272 - micro - MainProcess - INFO     Seattle, located in the state of Washington in the United States, has a rich and diverse history that dates back thousands of years, when the area was inhabited by Native American tribes such as the Duwamish and Suquamish. The native people lived primarily off the land and waterways, fishing, hunting, and gathering.\n",
      "\n",
      "The first European to visit the Seattle area was George Vancouver, in May 1792. However, the first permanent European settlers arrived much later, in the mid-19th century. In 1851, a group led by Arthur Denny, now known as the Denny Party, established the first European settlement in the area, at Alki Point. The settlement was soon moved to the eastern shore of Elliott Bay, which became the core of the modern city.\n",
      "\n",
      "Seattle was officially incorporated as a city on December 2, 1869. Its early economy was based on the timber industry, as the area was rich in forests. As trees were cut down, (comparison.py:make_call:143)\n",
      "2024-05-02 01:50:17,273 - micro - MainProcess - INFO     Time taken for chat: 6 seconds or 6375 milliseconds. (comparison.py:make_call:144)\n"
     ]
    },
    {
     "name": "stdout",
     "output_type": "stream",
     "text": [
      "Call sent at (Local time): 2024-05-02 01:50:22.285039, (GMT): 2024-05-02 06:50:22.285039+00:00, Model: turbo-gpt4, Max Tokens: 200\n"
     ]
    },
    {
     "name": "stderr",
     "output_type": "stream",
     "text": [
      "2024-05-02 01:50:27,235 - micro - MainProcess - INFO     Seattle, the largest city in Washington state, has a rich and varied history. Here's a brief overview:\n",
      "\n",
      "**Indigenous History:**\n",
      "Before European settlers, the Seattle area was inhabited by Native American tribes, primarily the Duwamish and Suquamish peoples. The lush land and abundant water sources provided rich fishing and hunting grounds.\n",
      "\n",
      "**European Settlement:**\n",
      "The first European settlers arrived in the Seattle area in 1851, led by Arthur A. Denny and his group of travelers from Illinois, known as the Denny Party. They initially settled at Alki Point but later moved to the eastern shore of Elliott Bay, establishing what would become the city of Seattle.\n",
      "\n",
      "**Naming and Incorporation:**\n",
      "Seattle is named after Chief Si'ahl (Chief Seattle), a leader of the local Duwamish and Suquamish tribes. The city was officially incorporated on December 2, 1869.\n",
      "\n",
      "**Economic Growth:**\n",
      "Seattle's early economy was based on the logging industry (comparison.py:make_call:143)\n",
      "2024-05-02 01:50:27,238 - micro - MainProcess - INFO     Time taken for chat: 5 seconds or 4951 milliseconds. (comparison.py:make_call:144)\n"
     ]
    },
    {
     "name": "stdout",
     "output_type": "stream",
     "text": [
      "Call sent at (Local time): 2024-05-02 01:50:32.249068, (GMT): 2024-05-02 06:50:32.249068+00:00, Model: turbo-gpt4, Max Tokens: 400\n"
     ]
    }
   ],
   "source": [
    "# Define the deployment names\n",
    "deployment_names = ['turbo-gpt4', 'gpt4-1106']\n",
    "\n",
    "# Define max_tokens to test\n",
    "max_tokens_list = [100, 200, 400, 800, 1000]\n",
    "\n",
    "# Create an AzureOpenAINonStreamingBenchmark and run the tests\n",
    "client_non_streaming = AzureOpenAINonStreamingBenchmark(api_key, azure_endpoint)\n",
    "await client_non_streaming.run_tests(deployment_names, max_tokens_list, iterations=5)"
   ]
  },
  {
   "cell_type": "code",
   "execution_count": null,
   "metadata": {},
   "outputs": [
    {
     "name": "stdout",
     "output_type": "stream",
     "text": [
      "+-----------------+--------------------+--------------------+--------------------+------------+------------+-------------+-------------+\n",
      "| Model_maxtokens | Max Time (Seconds) | Min Time (Seconds) | Avg Time (Seconds) | max_tokens | Iterations | Error Count | Error Codes |\n",
      "+-----------------+--------------------+--------------------+--------------------+------------+------------+-------------+-------------+\n",
      "| turbo-gpt4_100  | 3.000845193862915  | 2.501572608947754  | 2.7565410137176514 |   100.0    |     5      |      0      |             |\n",
      "| turbo-gpt4_200  | 6.248765468597412  | 4.961958408355713  | 5.4610316276550295 |   200.0    |     5      |      0      |             |\n",
      "| turbo-gpt4_400  | 10.27804160118103  | 9.611045837402344  | 9.780424356460571  |   400.0    |     5      |      0      |             |\n",
      "| turbo-gpt4_800  | 15.374665975570679 | 13.203473091125488 | 13.822992277145385 |   800.0    |     5      |      0      |             |\n",
      "| turbo-gpt4_1000 | 14.046294689178467 | 11.237354755401611 | 12.499346351623535 |   1000.0   |     5      |      0      |             |\n",
      "|  gpt4-1106_100  | 10.629926443099976 | 5.310322046279907  | 6.966354465484619  |   100.0    |     5      |      0      |             |\n",
      "|  gpt4-1106_200  | 22.71241593360901  | 12.916583061218262 | 17.457491874694824 |   200.0    |     5      |      0      |             |\n",
      "|  gpt4-1106_400  |  53.9416139125824  | 21.736641883850098 | 34.44628438949585  |   400.0    |     5      |      0      |             |\n",
      "|  gpt4-1106_800  | 65.30090975761414  | 39.98656368255615  | 50.05049905776978  |   800.0    |     5      |      0      |             |\n",
      "| gpt4-1106_1000  | 160.36856722831726 | 43.38801884651184  |  78.1882094860077  |   1000.0   |     5      |      0      |             |\n",
      "+-----------------+--------------------+--------------------+--------------------+------------+------------+-------------+-------------+\n"
     ]
    }
   ],
   "source": [
    "from datetime import datetime\n",
    "now = datetime.now()\n",
    "timestamp = now.strftime(\"%Y%m%d_%H%M%S\")\n",
    "filename = f\"tests/logs/results_{timestamp}.json\"\n",
    "\n",
    "client_non_streaming.save_results(filename, show_table=True)"
   ]
  }
 ],
 "metadata": {
  "kernelspec": {
   "display_name": "ptu-benchmarking",
   "language": "python",
   "name": "python3"
  },
  "language_info": {
   "codemirror_mode": {
    "name": "ipython",
    "version": 3
   },
   "file_extension": ".py",
   "mimetype": "text/x-python",
   "name": "python",
   "nbconvert_exporter": "python",
   "pygments_lexer": "ipython3",
   "version": "3.9.18"
  }
 },
 "nbformat": 4,
 "nbformat_minor": 2
}
